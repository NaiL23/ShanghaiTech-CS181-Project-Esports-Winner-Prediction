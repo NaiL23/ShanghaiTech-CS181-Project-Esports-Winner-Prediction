{
 "cells": [
  {
   "cell_type": "code",
   "execution_count": 193,
   "metadata": {},
   "outputs": [],
   "source": [
    "import torch\n",
    "from torch import nn\n",
    "import torchvision\n",
    "from torch.utils.data import Dataset\n",
    "from torch.utils.data import random_split\n",
    "from torch.utils.data import DataLoader\n",
    "import torch.nn.functional as F\n",
    "from torch.autograd import Variable\n",
    "import pandas as pd\n",
    "import numpy as np\n",
    "import matplotlib.pyplot as plt\n",
    "import re\n",
    "import warnings\n",
    "warnings.filterwarnings('ignore')\n",
    "from tqdm import tqdm\n",
    "\n",
    "BATCH_SIZE=10\n",
    "LR=0.01\n",
    "EPOCH=1\n",
    "PREDICT_TIME=15"
   ]
  },
  {
   "cell_type": "markdown",
   "metadata": {},
   "source": [
    "## Dataset"
   ]
  },
  {
   "cell_type": "code",
   "execution_count": 185,
   "metadata": {},
   "outputs": [],
   "source": [
    "class LOLDataset(Dataset):\n",
    "    def __init__(self,moneyData,label):\n",
    "        self.money=[]\n",
    "        for i in range(PREDICT_TIME):\n",
    "            self.money.append([line[i] for line in moneyData])\n",
    "        self.label=[i for i in label]\n",
    "    \n",
    "    def __getitem__(self,item):\n",
    "        # print(item,\"###\")\n",
    "        return torch.tensor([[torch.scalar_tensor(x[item])] for x in self.money]),torch.tensor(self.label[item])\n",
    "    \n",
    "    def __len__(self):\n",
    "        return len(self.label)\n",
    "            "
   ]
  },
  {
   "cell_type": "code",
   "execution_count": 186,
   "metadata": {},
   "outputs": [],
   "source": [
    "df = pd.read_csv('../data/LeagueofLegends.csv', sep=',')\n",
    "df[\"golddiff\"]\n",
    "# df[\"bResult\"]\n",
    "gold = [line[1:-1].split(\",\") for line in df[\"golddiff\"]]\n",
    "gold=[[int(x) for x in line]for line in gold]"
   ]
  },
  {
   "cell_type": "code",
   "execution_count": 187,
   "metadata": {},
   "outputs": [],
   "source": [
    "dataset=LOLDataset(gold,df[\"bResult\"])\n",
    "train_size=int(0.8*len(dataset))\n",
    "test_size = len(dataset)-train_size\n",
    "\n",
    "trainDataset,testDataset=random_split(dataset,[train_size,test_size])\n",
    "\n",
    "trainLoader=DataLoader(trainDataset,batch_size=32,shuffle=True)\n",
    "testLoader=DataLoader(testDataset,batch_size=32)"
   ]
  },
  {
   "cell_type": "markdown",
   "metadata": {},
   "source": [
    "## RNN Network"
   ]
  },
  {
   "cell_type": "code",
   "execution_count": 188,
   "metadata": {},
   "outputs": [],
   "source": [
    "class RNN(nn.Module):\n",
    "    def __init__(self):\n",
    "        super(RNN,self).__init__()\n",
    "\n",
    "        self.rnn=nn.LSTM(\n",
    "            input_size=1,\n",
    "            hidden_size=128,\n",
    "            num_layers=1,\n",
    "            batch_first=True\n",
    "        )\n",
    "\n",
    "        self.out = nn.Linear(128, 2)\n",
    "    def forward(self,x):\n",
    "        r_out,(h_n,h_c)=self.rnn(x,None)\n",
    "        out = self.out(r_out[:, -1, :])\n",
    "        return out"
   ]
  },
  {
   "cell_type": "code",
   "execution_count": 189,
   "metadata": {},
   "outputs": [
    {
     "name": "stdout",
     "output_type": "stream",
     "text": [
      "RNN(\n",
      "  (rnn): LSTM(1, 128, batch_first=True)\n",
      "  (out): Linear(in_features=128, out_features=2, bias=True)\n",
      ")\n"
     ]
    }
   ],
   "source": [
    "model=RNN()\n",
    "print(model)"
   ]
  },
  {
   "cell_type": "markdown",
   "metadata": {},
   "source": [
    "## Train"
   ]
  },
  {
   "cell_type": "code",
   "execution_count": 195,
   "metadata": {},
   "outputs": [
    {
     "name": "stderr",
     "output_type": "stream",
     "text": [
      "191it [03:52,  1.22s/it]\n"
     ]
    }
   ],
   "source": [
    "optimizer = torch.optim.Adam(model.parameters(), lr=LR)\n",
    "loss_func = nn.CrossEntropyLoss()\n",
    "\n",
    "for epoch in range(EPOCH):\n",
    "    for step, (x, y) in tqdm(enumerate(trainLoader)):\n",
    "        b_x = Variable(x)\n",
    "        b_y = Variable(y)\n",
    "        \n",
    "        output = model(b_x)\n",
    "        loss = loss_func(output, b_y)\n",
    "        # print(loss)\n",
    "        optimizer.zero_grad()\n",
    "        loss.backward()\n",
    "        optimizer.step()"
   ]
  },
  {
   "cell_type": "markdown",
   "metadata": {},
   "source": [
    "## Test"
   ]
  },
  {
   "cell_type": "code",
   "execution_count": 207,
   "metadata": {},
   "outputs": [
    {
     "name": "stderr",
     "output_type": "stream",
     "text": [
      "48it [00:42,  1.12it/s]"
     ]
    },
    {
     "name": "stdout",
     "output_type": "stream",
     "text": [
      "tensor(0.7135)\n"
     ]
    },
    {
     "name": "stderr",
     "output_type": "stream",
     "text": [
      "\n"
     ]
    }
   ],
   "source": [
    "model.eval()\n",
    "sum = torch.tensor(0)\n",
    "count=0\n",
    "for step,(x,y) in tqdm(enumerate(testLoader)):\n",
    "    b_x = Variable(x)\n",
    "    b_y = Variable(y)\n",
    "    predict=model(b_x)\n",
    "    predict=torch.max(predict,1).indices\n",
    "    sum+=torch.sum(torch.abs(b_y-predict))\n",
    "    count+=32\n",
    "print(1-sum/count)"
   ]
  }
 ],
 "metadata": {
  "interpreter": {
   "hash": "61a57a4b5406d2de388e2f91097d4e4bcd7d5f4a46f53a795aa28a02eed27fc5"
  },
  "kernelspec": {
   "display_name": "Python 3.8.8 64-bit ('base': conda)",
   "language": "python",
   "name": "python3"
  },
  "language_info": {
   "codemirror_mode": {
    "name": "ipython",
    "version": 3
   },
   "file_extension": ".py",
   "mimetype": "text/x-python",
   "name": "python",
   "nbconvert_exporter": "python",
   "pygments_lexer": "ipython3",
   "version": "3.8.10"
  },
  "orig_nbformat": 4
 },
 "nbformat": 4,
 "nbformat_minor": 2
}
