{
 "cells": [
  {
   "cell_type": "markdown",
   "metadata": {},
   "source": [
    "# Predict Winner from Realtime Stats using RNN"
   ]
  },
  {
   "cell_type": "code",
   "execution_count": 64,
   "metadata": {},
   "outputs": [],
   "source": [
    "import torch\n",
    "from torch import nn\n",
    "from torch.utils.data import Dataset\n",
    "from torch.utils.data import random_split\n",
    "from torch.utils.data import DataLoader\n",
    "from torch.autograd import Variable\n",
    "import pandas as pd\n",
    "import numpy as np\n",
    "import warnings\n",
    "warnings.filterwarnings('ignore')\n",
    "from tqdm import tqdm\n",
    "\n",
    "\n",
    "SEED = 233\n",
    "BATCH_SIZE = 32\n",
    "PREDICT_TIME = 5"
   ]
  },
  {
   "cell_type": "markdown",
   "metadata": {},
   "source": [
    "## Dataset"
   ]
  },
  {
   "cell_type": "code",
   "execution_count": 65,
   "metadata": {},
   "outputs": [],
   "source": [
    "class LOLDataset(Dataset):\n",
    "    def __init__(self,moneyData,label):\n",
    "        self.money=[]\n",
    "        for i in range(PREDICT_TIME):\n",
    "            self.money.append([line[i] for line in moneyData])\n",
    "        self.label=[i for i in label]\n",
    "    \n",
    "    def __getitem__(self,item):\n",
    "        return torch.tensor([[torch.scalar_tensor(x[item])] for x in self.money]),torch.tensor(self.label[item])\n",
    "    \n",
    "    def __len__(self):\n",
    "        return len(self.label)\n",
    "            "
   ]
  },
  {
   "cell_type": "code",
   "execution_count": 66,
   "metadata": {},
   "outputs": [
    {
     "name": "stdout",
     "output_type": "stream",
     "text": [
      "# of matches: 7620\n"
     ]
    },
    {
     "data": {
      "text/plain": [
       "0    [0, 0, -14, -65, -268, -431, -488, -789, -494,...\n",
       "1    [0, 0, -26, -18, 147, 237, -152, 18, 88, -242,...\n",
       "2    [0, 0, 10, -60, 34, 37, 589, 1064, 1258, 913, ...\n",
       "3    [0, 0, -15, 25, 228, -6, -243, 175, -346, 16, ...\n",
       "4    [40, 40, 44, -36, 113, 158, -121, -191, 23, 20...\n",
       "Name: golddiff, dtype: object"
      ]
     },
     "execution_count": 66,
     "metadata": {},
     "output_type": "execute_result"
    }
   ],
   "source": [
    "df = pd.read_csv('../data/LeagueofLegends.csv', sep=',')\n",
    "df = df[df['gamelength'] >= PREDICT_TIME]\n",
    "df.reset_index(drop = True, inplace = True)\n",
    "print(f'# of matches: {len(df)}')\n",
    "\n",
    "from ast import literal_eval\n",
    "df['golddiff'] = df['golddiff'].apply(literal_eval)\n",
    "df['golddiff'].head()\n",
    "# df[\"bResult\"]"
   ]
  },
  {
   "cell_type": "markdown",
   "metadata": {},
   "source": [
    "Normalize data:"
   ]
  },
  {
   "cell_type": "code",
   "execution_count": 67,
   "metadata": {},
   "outputs": [
    {
     "name": "stdout",
     "output_type": "stream",
     "text": [
      "7620\n"
     ]
    }
   ],
   "source": [
    "from sklearn.preprocessing import StandardScaler\n",
    "scaler = StandardScaler()\n",
    "for row in df['golddiff']:\n",
    "    scaler.partial_fit(np.asanyarray(row).reshape(-1, 1))\n",
    "\n",
    "golddiff = [scaler.transform(np.asanyarray(row).reshape(-1, 1)).reshape(-1) for row in df['golddiff']]\n",
    "print(len(golddiff))"
   ]
  },
  {
   "cell_type": "markdown",
   "metadata": {},
   "source": [
    "Split the dataset into Train:Held-Out:Test = 6:2:2."
   ]
  },
  {
   "cell_type": "code",
   "execution_count": 68,
   "metadata": {},
   "outputs": [],
   "source": [
    "dataset = LOLDataset(golddiff, df[\"bResult\"])\n",
    "test_size = valid_size = int(0.2 * len(dataset))\n",
    "train_size = len(dataset)- test_size - valid_size\n",
    "\n",
    "trainDataset, validDataset, testDataset = random_split(\n",
    "    dataset = dataset,\n",
    "    lengths = [train_size, valid_size, test_size],\n",
    "    generator = torch.Generator().manual_seed(SEED)\n",
    ")\n",
    "\n",
    "trainLoader = DataLoader(trainDataset, batch_size = BATCH_SIZE, shuffle=True)\n",
    "validLoader = DataLoader(validDataset, batch_size = BATCH_SIZE)\n",
    "testLoader = DataLoader(testDataset, batch_size = BATCH_SIZE)"
   ]
  },
  {
   "cell_type": "markdown",
   "metadata": {},
   "source": [
    "## RNN Network"
   ]
  },
  {
   "cell_type": "code",
   "execution_count": 69,
   "metadata": {},
   "outputs": [],
   "source": [
    "class RNN(nn.Module):\n",
    "    def __init__(self):\n",
    "        super(RNN,self).__init__()\n",
    "\n",
    "        self.rnn=nn.LSTM(\n",
    "            input_size = 1,\n",
    "            hidden_size = 256,\n",
    "            num_layers = 1,\n",
    "            batch_first = True\n",
    "        )\n",
    "\n",
    "        self.out = nn.Linear(256, 2)\n",
    "    \n",
    "    def forward(self,x):\n",
    "        r_out,(h_n, h_c)=self.rnn(x,None)\n",
    "        out = self.out(r_out[:, -1, :])\n",
    "        return out"
   ]
  },
  {
   "cell_type": "code",
   "execution_count": 70,
   "metadata": {},
   "outputs": [
    {
     "name": "stdout",
     "output_type": "stream",
     "text": [
      "RNN(\n",
      "  (rnn): LSTM(1, 256, batch_first=True)\n",
      "  (out): Linear(in_features=256, out_features=2, bias=True)\n",
      ")\n"
     ]
    }
   ],
   "source": [
    "model=RNN()\n",
    "print(model)"
   ]
  },
  {
   "cell_type": "markdown",
   "metadata": {},
   "source": [
    "## Train"
   ]
  },
  {
   "cell_type": "code",
   "execution_count": 71,
   "metadata": {},
   "outputs": [],
   "source": [
    "def train(dataloader, model, loss_fn, optimizer, mute = False):\n",
    "    size = len(dataloader.dataset)\n",
    "    for batch, (x, y) in enumerate(dataloader):\n",
    "        x, y = Variable(x), Variable(y)\n",
    "\n",
    "        predict = model(x)\n",
    "        loss = loss_fn(predict, y)\n",
    "        \n",
    "        optimizer.zero_grad()\n",
    "        loss.backward()\n",
    "        optimizer.step()\n",
    "\n",
    "        if batch % 20 == 0 and not mute:\n",
    "            loss, current = loss.item(), batch * len(x)\n",
    "            print(f\"loss: {loss:>7f}  [{current:>5d}/{size:>5d}]\")"
   ]
  },
  {
   "cell_type": "code",
   "execution_count": 72,
   "metadata": {},
   "outputs": [],
   "source": [
    "def test(dataloader, model, loss_fn, validation = False):\n",
    "    model.eval()\n",
    "    size = len(dataloader.dataset)\n",
    "\n",
    "    correct = 0\n",
    "    test_loss = 0\n",
    "    with torch.no_grad():\n",
    "        for step,(x,y) in enumerate(dataloader):\n",
    "            x, y = Variable(x), Variable(y)\n",
    "            predict = model(x)\n",
    "            # print(predict)\n",
    "            test_loss += loss_fn(predict, y).item()\n",
    "            correct += (predict.argmax(1) == y).sum().item()\n",
    "    \n",
    "    print(f\"{'Valid' if validation else 'Test'} Acc:{correct/size:>7f}, Avg Loss: {test_loss/size:>7f}\")"
   ]
  },
  {
   "cell_type": "code",
   "execution_count": 73,
   "metadata": {},
   "outputs": [
    {
     "name": "stdout",
     "output_type": "stream",
     "text": [
      "--------- Epoch #1 ---------\n",
      "loss: 0.687814  [    0/ 4572]\n",
      "loss: 0.683205  [  640/ 4572]\n",
      "loss: 0.691192  [ 1280/ 4572]\n",
      "loss: 0.676130  [ 1920/ 4572]\n",
      "loss: 0.701419  [ 2560/ 4572]\n",
      "loss: 0.679458  [ 3200/ 4572]\n",
      "loss: 0.671152  [ 3840/ 4572]\n",
      "loss: 0.720431  [ 4480/ 4572]\n",
      "Valid Acc:0.554462, Avg Loss: 0.021643\n",
      "--------- Epoch #2 ---------\n",
      "loss: 0.690452  [    0/ 4572]\n",
      "loss: 0.696368  [  640/ 4572]\n",
      "loss: 0.676539  [ 1280/ 4572]\n",
      "loss: 0.679764  [ 1920/ 4572]\n",
      "loss: 0.696806  [ 2560/ 4572]\n",
      "loss: 0.690974  [ 3200/ 4572]\n",
      "loss: 0.701068  [ 3840/ 4572]\n",
      "loss: 0.691150  [ 4480/ 4572]\n",
      "Valid Acc:0.554462, Avg Loss: 0.021628\n",
      "--------- Epoch #3 ---------\n",
      "loss: 0.696183  [    0/ 4572]\n",
      "loss: 0.679740  [  640/ 4572]\n",
      "loss: 0.666869  [ 1280/ 4572]\n",
      "loss: 0.680429  [ 1920/ 4572]\n",
      "loss: 0.683630  [ 2560/ 4572]\n",
      "loss: 0.714930  [ 3200/ 4572]\n",
      "loss: 0.679446  [ 3840/ 4572]\n",
      "loss: 0.679076  [ 4480/ 4572]\n",
      "Valid Acc:0.554462, Avg Loss: 0.021626\n",
      "--------- Epoch #4 ---------\n",
      "loss: 0.686875  [    0/ 4572]\n",
      "loss: 0.697519  [  640/ 4572]\n",
      "loss: 0.685268  [ 1280/ 4572]\n",
      "loss: 0.678642  [ 1920/ 4572]\n",
      "loss: 0.702582  [ 2560/ 4572]\n",
      "loss: 0.681886  [ 3200/ 4572]\n",
      "loss: 0.698753  [ 3840/ 4572]\n",
      "loss: 0.712251  [ 4480/ 4572]\n",
      "Valid Acc:0.554462, Avg Loss: 0.021589\n",
      "--------- Epoch #5 ---------\n",
      "loss: 0.688310  [    0/ 4572]\n",
      "loss: 0.679984  [  640/ 4572]\n",
      "loss: 0.676359  [ 1280/ 4572]\n",
      "loss: 0.690583  [ 1920/ 4572]\n",
      "loss: 0.670635  [ 2560/ 4572]\n",
      "loss: 0.694654  [ 3200/ 4572]\n",
      "loss: 0.687861  [ 3840/ 4572]\n",
      "loss: 0.714537  [ 4480/ 4572]\n",
      "Valid Acc:0.554462, Avg Loss: 0.021550\n",
      "--------- Epoch #6 ---------\n",
      "loss: 0.667049  [    0/ 4572]\n",
      "loss: 0.712904  [  640/ 4572]\n",
      "loss: 0.683434  [ 1280/ 4572]\n",
      "loss: 0.683682  [ 1920/ 4572]\n",
      "loss: 0.715501  [ 2560/ 4572]\n",
      "loss: 0.679608  [ 3200/ 4572]\n",
      "loss: 0.688497  [ 3840/ 4572]\n",
      "loss: 0.689025  [ 4480/ 4572]\n",
      "Valid Acc:0.554462, Avg Loss: 0.021498\n",
      "--------- Epoch #7 ---------\n",
      "loss: 0.727537  [    0/ 4572]\n",
      "loss: 0.698068  [  640/ 4572]\n",
      "loss: 0.669179  [ 1280/ 4572]\n",
      "loss: 0.674186  [ 1920/ 4572]\n",
      "loss: 0.690583  [ 2560/ 4572]\n",
      "loss: 0.671792  [ 3200/ 4572]\n",
      "loss: 0.667507  [ 3840/ 4572]\n",
      "loss: 0.677464  [ 4480/ 4572]\n",
      "Valid Acc:0.557743, Avg Loss: 0.021437\n",
      "--------- Epoch #8 ---------\n",
      "loss: 0.682448  [    0/ 4572]\n",
      "loss: 0.686092  [  640/ 4572]\n",
      "loss: 0.664847  [ 1280/ 4572]\n",
      "loss: 0.672876  [ 1920/ 4572]\n",
      "loss: 0.689026  [ 2560/ 4572]\n",
      "loss: 0.688779  [ 3200/ 4572]\n",
      "loss: 0.682469  [ 3840/ 4572]\n",
      "loss: 0.665067  [ 4480/ 4572]\n",
      "Valid Acc:0.564304, Avg Loss: 0.021364\n",
      "--------- Epoch #9 ---------\n",
      "loss: 0.675012  [    0/ 4572]\n",
      "loss: 0.673368  [  640/ 4572]\n",
      "loss: 0.684789  [ 1280/ 4572]\n",
      "loss: 0.690176  [ 1920/ 4572]\n",
      "loss: 0.715470  [ 2560/ 4572]\n",
      "loss: 0.666516  [ 3200/ 4572]\n",
      "loss: 0.646785  [ 3840/ 4572]\n",
      "loss: 0.659593  [ 4480/ 4572]\n",
      "Valid Acc:0.569554, Avg Loss: 0.021314\n",
      "--------- Epoch #10 ---------\n",
      "loss: 0.713731  [    0/ 4572]\n",
      "loss: 0.688080  [  640/ 4572]\n",
      "loss: 0.669482  [ 1280/ 4572]\n",
      "loss: 0.635780  [ 1920/ 4572]\n",
      "loss: 0.678910  [ 2560/ 4572]\n",
      "loss: 0.676799  [ 3200/ 4572]\n",
      "loss: 0.659707  [ 3840/ 4572]\n",
      "loss: 0.613368  [ 4480/ 4572]\n",
      "Valid Acc:0.565617, Avg Loss: 0.021260\n",
      "--------- Epoch #11 ---------\n",
      "loss: 0.673521  [    0/ 4572]\n",
      "loss: 0.668177  [  640/ 4572]\n",
      "loss: 0.673996  [ 1280/ 4572]\n",
      "loss: 0.660026  [ 1920/ 4572]\n",
      "loss: 0.657924  [ 2560/ 4572]\n",
      "loss: 0.697068  [ 3200/ 4572]\n",
      "loss: 0.684569  [ 3840/ 4572]\n",
      "loss: 0.683323  [ 4480/ 4572]\n",
      "Valid Acc:0.568898, Avg Loss: 0.021186\n",
      "--------- Epoch #12 ---------\n",
      "loss: 0.614510  [    0/ 4572]\n",
      "loss: 0.675400  [  640/ 4572]\n",
      "loss: 0.627713  [ 1280/ 4572]\n",
      "loss: 0.677485  [ 1920/ 4572]\n",
      "loss: 0.668443  [ 2560/ 4572]\n",
      "loss: 0.689580  [ 3200/ 4572]\n",
      "loss: 0.682142  [ 3840/ 4572]\n",
      "loss: 0.639507  [ 4480/ 4572]\n",
      "Valid Acc:0.582677, Avg Loss: 0.021156\n",
      "--------- Epoch #13 ---------\n",
      "loss: 0.706914  [    0/ 4572]\n",
      "loss: 0.677479  [  640/ 4572]\n",
      "loss: 0.631209  [ 1280/ 4572]\n",
      "loss: 0.684580  [ 1920/ 4572]\n",
      "loss: 0.652966  [ 2560/ 4572]\n",
      "loss: 0.664699  [ 3200/ 4572]\n",
      "loss: 0.713127  [ 3840/ 4572]\n",
      "loss: 0.656371  [ 4480/ 4572]\n",
      "Valid Acc:0.583333, Avg Loss: 0.021116\n",
      "--------- Epoch #14 ---------\n",
      "loss: 0.630647  [    0/ 4572]\n",
      "loss: 0.691564  [  640/ 4572]\n",
      "loss: 0.718478  [ 1280/ 4572]\n",
      "loss: 0.626880  [ 1920/ 4572]\n",
      "loss: 0.625370  [ 2560/ 4572]\n",
      "loss: 0.725428  [ 3200/ 4572]\n",
      "loss: 0.683728  [ 3840/ 4572]\n",
      "loss: 0.604277  [ 4480/ 4572]\n",
      "Valid Acc:0.583990, Avg Loss: 0.021103\n",
      "--------- Epoch #15 ---------\n",
      "loss: 0.682331  [    0/ 4572]\n",
      "loss: 0.697910  [  640/ 4572]\n",
      "loss: 0.719716  [ 1280/ 4572]\n",
      "loss: 0.668173  [ 1920/ 4572]\n",
      "loss: 0.678101  [ 2560/ 4572]\n",
      "loss: 0.677982  [ 3200/ 4572]\n",
      "loss: 0.695611  [ 3840/ 4572]\n",
      "loss: 0.652595  [ 4480/ 4572]\n",
      "Valid Acc:0.585302, Avg Loss: 0.021099\n"
     ]
    }
   ],
   "source": [
    "MUTE = False\n",
    "EPOCH = 15\n",
    "LR = 0.0001\n",
    "\n",
    "torch.manual_seed(SEED)\n",
    "np.random.seed(SEED)\n",
    "\n",
    "optimizer = torch.optim.Adam(model.parameters(), lr = LR)\n",
    "loss_func = nn.CrossEntropyLoss()\n",
    "\n",
    "for epoch in range(1, EPOCH + 1):\n",
    "    print(f\"--------- Epoch #{epoch} ---------\")\n",
    "    train(trainLoader, model, loss_func, optimizer, mute = MUTE)\n",
    "    test(validLoader, model, loss_func, validation = True)\n",
    "    # test(testLoader, model, loss_func)\n"
   ]
  },
  {
   "cell_type": "markdown",
   "metadata": {},
   "source": [
    "## Test"
   ]
  },
  {
   "cell_type": "code",
   "execution_count": 74,
   "metadata": {},
   "outputs": [
    {
     "name": "stdout",
     "output_type": "stream",
     "text": [
      "Test Acc:0.585302, Avg Loss: 0.021080\n"
     ]
    }
   ],
   "source": [
    "test(testLoader, model, loss_func)"
   ]
  }
 ],
 "metadata": {
  "interpreter": {
   "hash": "61a57a4b5406d2de388e2f91097d4e4bcd7d5f4a46f53a795aa28a02eed27fc5"
  },
  "kernelspec": {
   "display_name": "Python 3.8.8 64-bit ('base': conda)",
   "language": "python",
   "name": "python3"
  },
  "language_info": {
   "codemirror_mode": {
    "name": "ipython",
    "version": 3
   },
   "file_extension": ".py",
   "mimetype": "text/x-python",
   "name": "python",
   "nbconvert_exporter": "python",
   "pygments_lexer": "ipython3",
   "version": "3.9.7"
  },
  "orig_nbformat": 4
 },
 "nbformat": 4,
 "nbformat_minor": 2
}
