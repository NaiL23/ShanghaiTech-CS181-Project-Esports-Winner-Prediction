{
 "cells": [
  {
   "cell_type": "markdown",
   "metadata": {},
   "source": [
    "# Predict Winner from Realtime Stats using RNN"
   ]
  },
  {
   "cell_type": "code",
   "execution_count": 12,
   "metadata": {},
   "outputs": [],
   "source": [
    "import torch\n",
    "from torch import nn\n",
    "from torch.utils.data import Dataset\n",
    "from torch.utils.data import random_split\n",
    "from torch.utils.data import DataLoader\n",
    "from torch.autograd import Variable\n",
    "import pandas as pd\n",
    "import numpy as np\n",
    "import warnings\n",
    "warnings.filterwarnings('ignore')\n",
    "from tqdm import tqdm\n",
    "\n",
    "\n",
    "SEED = 233\n",
    "BATCH_SIZE = 32\n",
    "PREDICT_TIME = 10"
   ]
  },
  {
   "cell_type": "markdown",
   "metadata": {},
   "source": [
    "## Dataset"
   ]
  },
  {
   "cell_type": "code",
   "execution_count": 13,
   "metadata": {},
   "outputs": [],
   "source": [
    "class LOLDataset(Dataset):\n",
    "    def __init__(self,moneyData,label):\n",
    "        self.money=[]\n",
    "        for i in range(PREDICT_TIME):\n",
    "            self.money.append([line[i] for line in moneyData])\n",
    "        self.label=[i for i in label]\n",
    "    \n",
    "    def __getitem__(self,item):\n",
    "        return torch.tensor([[torch.scalar_tensor(x[item])] for x in self.money]),torch.tensor(self.label[item])\n",
    "    \n",
    "    def __len__(self):\n",
    "        return len(self.label)\n",
    "            "
   ]
  },
  {
   "cell_type": "code",
   "execution_count": 14,
   "metadata": {},
   "outputs": [
    {
     "name": "stdout",
     "output_type": "stream",
     "text": [
      "# of matches: 7620\n"
     ]
    },
    {
     "data": {
      "text/plain": [
       "0    [0, 0, -14, -65, -268, -431, -488, -789, -494,...\n",
       "1    [0, 0, -26, -18, 147, 237, -152, 18, 88, -242,...\n",
       "2    [0, 0, 10, -60, 34, 37, 589, 1064, 1258, 913, ...\n",
       "3    [0, 0, -15, 25, 228, -6, -243, 175, -346, 16, ...\n",
       "4    [40, 40, 44, -36, 113, 158, -121, -191, 23, 20...\n",
       "Name: golddiff, dtype: object"
      ]
     },
     "execution_count": 14,
     "metadata": {},
     "output_type": "execute_result"
    }
   ],
   "source": [
    "df = pd.read_csv('../data/LeagueofLegends.csv', sep=',')\n",
    "df = df[df['gamelength'] >= PREDICT_TIME]\n",
    "df.reset_index(drop = True, inplace = True)\n",
    "print(f'# of matches: {len(df)}')\n",
    "\n",
    "from ast import literal_eval\n",
    "df['golddiff'] = df['golddiff'].apply(literal_eval)\n",
    "df['golddiff'].head()\n",
    "# df[\"bResult\"]"
   ]
  },
  {
   "cell_type": "markdown",
   "metadata": {},
   "source": [
    "Normalize data:"
   ]
  },
  {
   "cell_type": "code",
   "execution_count": 15,
   "metadata": {},
   "outputs": [
    {
     "name": "stdout",
     "output_type": "stream",
     "text": [
      "7620\n"
     ]
    }
   ],
   "source": [
    "from sklearn.preprocessing import StandardScaler\n",
    "scaler = StandardScaler()\n",
    "for row in df['golddiff']:\n",
    "    scaler.partial_fit(np.asanyarray(row).reshape(-1, 1))\n",
    "\n",
    "golddiff = [scaler.transform(np.asanyarray(row).reshape(-1, 1)).reshape(-1) for row in df['golddiff']]\n",
    "print(len(golddiff))"
   ]
  },
  {
   "cell_type": "markdown",
   "metadata": {},
   "source": [
    "Split the dataset into Train:Held-Out:Test = 6:2:2."
   ]
  },
  {
   "cell_type": "code",
   "execution_count": 16,
   "metadata": {},
   "outputs": [],
   "source": [
    "dataset = LOLDataset(golddiff, df[\"bResult\"])\n",
    "test_size = valid_size = int(0.2 * len(dataset))\n",
    "train_size = len(dataset)- test_size - valid_size\n",
    "\n",
    "trainDataset, validDataset, testDataset = random_split(\n",
    "    dataset = dataset,\n",
    "    lengths = [train_size, valid_size, test_size],\n",
    "    generator = torch.Generator().manual_seed(SEED)\n",
    ")\n",
    "\n",
    "trainLoader = DataLoader(trainDataset, batch_size = BATCH_SIZE, shuffle=True)\n",
    "validLoader = DataLoader(validDataset, batch_size = BATCH_SIZE)\n",
    "testLoader = DataLoader(testDataset, batch_size = BATCH_SIZE)"
   ]
  },
  {
   "cell_type": "markdown",
   "metadata": {},
   "source": [
    "## RNN Network"
   ]
  },
  {
   "cell_type": "code",
   "execution_count": 17,
   "metadata": {},
   "outputs": [],
   "source": [
    "class RNN(nn.Module):\n",
    "    def __init__(self):\n",
    "        super(RNN,self).__init__()\n",
    "\n",
    "        self.rnn=nn.LSTM(\n",
    "            input_size = 1,\n",
    "            hidden_size = 256,\n",
    "            num_layers = 1,\n",
    "            batch_first = True\n",
    "        )\n",
    "\n",
    "        self.out = nn.Linear(256, 2)\n",
    "    \n",
    "    def forward(self,x):\n",
    "        r_out,(h_n, h_c)=self.rnn(x,None)\n",
    "        out = self.out(r_out[:, -1, :])\n",
    "        return out"
   ]
  },
  {
   "cell_type": "code",
   "execution_count": 18,
   "metadata": {},
   "outputs": [
    {
     "name": "stdout",
     "output_type": "stream",
     "text": [
      "RNN(\n",
      "  (rnn): LSTM(1, 256, batch_first=True)\n",
      "  (out): Linear(in_features=256, out_features=2, bias=True)\n",
      ")\n"
     ]
    }
   ],
   "source": [
    "model=RNN()\n",
    "print(model)"
   ]
  },
  {
   "cell_type": "markdown",
   "metadata": {},
   "source": [
    "## Train"
   ]
  },
  {
   "cell_type": "code",
   "execution_count": 19,
   "metadata": {},
   "outputs": [],
   "source": [
    "def train(dataloader, model, loss_fn, optimizer, mute = False):\n",
    "    size = len(dataloader.dataset)\n",
    "    for batch, (x, y) in enumerate(dataloader):\n",
    "        x, y = Variable(x), Variable(y)\n",
    "\n",
    "        predict = model(x)\n",
    "        loss = loss_fn(predict, y)\n",
    "        \n",
    "        optimizer.zero_grad()\n",
    "        loss.backward()\n",
    "        optimizer.step()\n",
    "\n",
    "        if batch % 20 == 0 and not mute:\n",
    "            loss, current = loss.item(), batch * len(x)\n",
    "            print(f\"loss: {loss:>7f}  [{current:>5d}/{size:>5d}]\")"
   ]
  },
  {
   "cell_type": "code",
   "execution_count": 20,
   "metadata": {},
   "outputs": [],
   "source": [
    "def test(dataloader, model, loss_fn, validation = False):\n",
    "    model.eval()\n",
    "    size = len(dataloader.dataset)\n",
    "\n",
    "    correct = 0\n",
    "    test_loss = 0\n",
    "    with torch.no_grad():\n",
    "        for step,(x,y) in enumerate(dataloader):\n",
    "            x, y = Variable(x), Variable(y)\n",
    "            predict = model(x)\n",
    "            # print(predict)\n",
    "            test_loss += loss_fn(predict, y).item()\n",
    "            correct += (predict.argmax(1) == y).sum().item()\n",
    "    \n",
    "    print(f\"{'Valid' if validation else 'Test'} Acc:{correct/size:>7f}, Avg Loss: {test_loss/size:>7f}\")"
   ]
  },
  {
   "cell_type": "code",
   "execution_count": 21,
   "metadata": {},
   "outputs": [
    {
     "name": "stdout",
     "output_type": "stream",
     "text": [
      "--------- Epoch #1 ---------\n",
      "loss: 0.688457  [    0/ 4572]\n",
      "loss: 0.682803  [  640/ 4572]\n",
      "loss: 0.690039  [ 1280/ 4572]\n",
      "loss: 0.670908  [ 1920/ 4572]\n",
      "loss: 0.695890  [ 2560/ 4572]\n",
      "loss: 0.672562  [ 3200/ 4572]\n",
      "loss: 0.658255  [ 3840/ 4572]\n",
      "loss: 0.719300  [ 4480/ 4572]\n",
      "Valid Acc:0.555774, Avg Loss: 0.021309\n",
      "--------- Epoch #2 ---------\n",
      "loss: 0.674256  [    0/ 4572]\n",
      "loss: 0.685002  [  640/ 4572]\n",
      "loss: 0.656634  [ 1280/ 4572]\n",
      "loss: 0.635314  [ 1920/ 4572]\n",
      "loss: 0.678640  [ 2560/ 4572]\n",
      "loss: 0.678888  [ 3200/ 4572]\n",
      "loss: 0.732176  [ 3840/ 4572]\n",
      "loss: 0.658299  [ 4480/ 4572]\n",
      "Valid Acc:0.639108, Avg Loss: 0.020316\n",
      "--------- Epoch #3 ---------\n",
      "loss: 0.689377  [    0/ 4572]\n",
      "loss: 0.629156  [  640/ 4572]\n",
      "loss: 0.604820  [ 1280/ 4572]\n",
      "loss: 0.693667  [ 1920/ 4572]\n",
      "loss: 0.605697  [ 2560/ 4572]\n",
      "loss: 0.558396  [ 3200/ 4572]\n",
      "loss: 0.588147  [ 3840/ 4572]\n",
      "loss: 0.710575  [ 4480/ 4572]\n",
      "Valid Acc:0.631234, Avg Loss: 0.020083\n",
      "--------- Epoch #4 ---------\n",
      "loss: 0.658078  [    0/ 4572]\n",
      "loss: 0.634144  [  640/ 4572]\n",
      "loss: 0.671594  [ 1280/ 4572]\n",
      "loss: 0.600510  [ 1920/ 4572]\n",
      "loss: 0.637198  [ 2560/ 4572]\n",
      "loss: 0.572781  [ 3200/ 4572]\n",
      "loss: 0.615996  [ 3840/ 4572]\n",
      "loss: 0.653972  [ 4480/ 4572]\n",
      "Valid Acc:0.646325, Avg Loss: 0.019639\n",
      "--------- Epoch #5 ---------\n",
      "loss: 0.590645  [    0/ 4572]\n",
      "loss: 0.621880  [  640/ 4572]\n",
      "loss: 0.584050  [ 1280/ 4572]\n",
      "loss: 0.678144  [ 1920/ 4572]\n",
      "loss: 0.587834  [ 2560/ 4572]\n",
      "loss: 0.641582  [ 3200/ 4572]\n",
      "loss: 0.604125  [ 3840/ 4572]\n",
      "loss: 0.714721  [ 4480/ 4572]\n",
      "Valid Acc:0.639764, Avg Loss: 0.019589\n",
      "--------- Epoch #6 ---------\n",
      "loss: 0.574612  [    0/ 4572]\n",
      "loss: 0.619676  [  640/ 4572]\n",
      "loss: 0.538120  [ 1280/ 4572]\n",
      "loss: 0.671665  [ 1920/ 4572]\n",
      "loss: 0.706148  [ 2560/ 4572]\n",
      "loss: 0.650264  [ 3200/ 4572]\n",
      "loss: 0.710589  [ 3840/ 4572]\n",
      "loss: 0.659282  [ 4480/ 4572]\n",
      "Valid Acc:0.648950, Avg Loss: 0.019525\n",
      "--------- Epoch #7 ---------\n",
      "loss: 0.715301  [    0/ 4572]\n",
      "loss: 0.562421  [  640/ 4572]\n",
      "loss: 0.646479  [ 1280/ 4572]\n",
      "loss: 0.552589  [ 1920/ 4572]\n",
      "loss: 0.581952  [ 2560/ 4572]\n",
      "loss: 0.544971  [ 3200/ 4572]\n",
      "loss: 0.669745  [ 3840/ 4572]\n",
      "loss: 0.587209  [ 4480/ 4572]\n",
      "Valid Acc:0.645013, Avg Loss: 0.019507\n",
      "--------- Epoch #8 ---------\n",
      "loss: 0.588608  [    0/ 4572]\n",
      "loss: 0.637112  [  640/ 4572]\n",
      "loss: 0.629609  [ 1280/ 4572]\n",
      "loss: 0.623875  [ 1920/ 4572]\n",
      "loss: 0.656582  [ 2560/ 4572]\n",
      "loss: 0.610478  [ 3200/ 4572]\n",
      "loss: 0.640954  [ 3840/ 4572]\n",
      "loss: 0.601915  [ 4480/ 4572]\n",
      "Valid Acc:0.649606, Avg Loss: 0.019411\n",
      "--------- Epoch #9 ---------\n",
      "loss: 0.511721  [    0/ 4572]\n",
      "loss: 0.612622  [  640/ 4572]\n",
      "loss: 0.641691  [ 1280/ 4572]\n",
      "loss: 0.617487  [ 1920/ 4572]\n",
      "loss: 0.653432  [ 2560/ 4572]\n",
      "loss: 0.651390  [ 3200/ 4572]\n",
      "loss: 0.611550  [ 3840/ 4572]\n",
      "loss: 0.599092  [ 4480/ 4572]\n",
      "Valid Acc:0.650262, Avg Loss: 0.019337\n",
      "--------- Epoch #10 ---------\n",
      "loss: 0.656072  [    0/ 4572]\n",
      "loss: 0.603632  [  640/ 4572]\n",
      "loss: 0.538914  [ 1280/ 4572]\n",
      "loss: 0.593304  [ 1920/ 4572]\n",
      "loss: 0.629354  [ 2560/ 4572]\n",
      "loss: 0.586332  [ 3200/ 4572]\n",
      "loss: 0.598666  [ 3840/ 4572]\n",
      "loss: 0.515739  [ 4480/ 4572]\n",
      "Valid Acc:0.652887, Avg Loss: 0.019225\n",
      "--------- Epoch #11 ---------\n",
      "loss: 0.602722  [    0/ 4572]\n",
      "loss: 0.561729  [  640/ 4572]\n",
      "loss: 0.677010  [ 1280/ 4572]\n",
      "loss: 0.568169  [ 1920/ 4572]\n",
      "loss: 0.644425  [ 2560/ 4572]\n",
      "loss: 0.635608  [ 3200/ 4572]\n",
      "loss: 0.688225  [ 3840/ 4572]\n",
      "loss: 0.649732  [ 4480/ 4572]\n",
      "Valid Acc:0.659449, Avg Loss: 0.019175\n",
      "--------- Epoch #12 ---------\n",
      "loss: 0.509032  [    0/ 4572]\n",
      "loss: 0.597088  [  640/ 4572]\n",
      "loss: 0.498648  [ 1280/ 4572]\n",
      "loss: 0.620927  [ 1920/ 4572]\n",
      "loss: 0.585315  [ 2560/ 4572]\n",
      "loss: 0.589982  [ 3200/ 4572]\n",
      "loss: 0.681503  [ 3840/ 4572]\n",
      "loss: 0.557791  [ 4480/ 4572]\n",
      "Valid Acc:0.658793, Avg Loss: 0.019193\n",
      "--------- Epoch #13 ---------\n",
      "loss: 0.665767  [    0/ 4572]\n",
      "loss: 0.590219  [  640/ 4572]\n",
      "loss: 0.506152  [ 1280/ 4572]\n",
      "loss: 0.602278  [ 1920/ 4572]\n",
      "loss: 0.583813  [ 2560/ 4572]\n",
      "loss: 0.738755  [ 3200/ 4572]\n",
      "loss: 0.683351  [ 3840/ 4572]\n",
      "loss: 0.578334  [ 4480/ 4572]\n",
      "Valid Acc:0.663386, Avg Loss: 0.019154\n",
      "--------- Epoch #14 ---------\n",
      "loss: 0.539082  [    0/ 4572]\n",
      "loss: 0.624483  [  640/ 4572]\n",
      "loss: 0.709288  [ 1280/ 4572]\n",
      "loss: 0.575710  [ 1920/ 4572]\n",
      "loss: 0.603863  [ 2560/ 4572]\n",
      "loss: 0.641883  [ 3200/ 4572]\n",
      "loss: 0.624088  [ 3840/ 4572]\n",
      "loss: 0.512641  [ 4480/ 4572]\n",
      "Valid Acc:0.656824, Avg Loss: 0.019105\n",
      "--------- Epoch #15 ---------\n",
      "loss: 0.592589  [    0/ 4572]\n",
      "loss: 0.653135  [  640/ 4572]\n",
      "loss: 0.694187  [ 1280/ 4572]\n",
      "loss: 0.636565  [ 1920/ 4572]\n",
      "loss: 0.624570  [ 2560/ 4572]\n",
      "loss: 0.657072  [ 3200/ 4572]\n",
      "loss: 0.667280  [ 3840/ 4572]\n",
      "loss: 0.614751  [ 4480/ 4572]\n",
      "Valid Acc:0.662073, Avg Loss: 0.019097\n"
     ]
    }
   ],
   "source": [
    "MUTE = False\n",
    "EPOCH = 15\n",
    "LR = 0.0001\n",
    "\n",
    "torch.manual_seed(SEED)\n",
    "np.random.seed(SEED)\n",
    "\n",
    "optimizer = torch.optim.Adam(model.parameters(), lr = LR)\n",
    "loss_func = nn.CrossEntropyLoss()\n",
    "\n",
    "for epoch in range(1, EPOCH + 1):\n",
    "    print(f\"--------- Epoch #{epoch} ---------\")\n",
    "    train(trainLoader, model, loss_func, optimizer, mute = MUTE)\n",
    "    test(validLoader, model, loss_func, validation = True)\n",
    "    # test(testLoader, model, loss_func)\n"
   ]
  },
  {
   "cell_type": "markdown",
   "metadata": {},
   "source": [
    "## Test"
   ]
  },
  {
   "cell_type": "code",
   "execution_count": 22,
   "metadata": {},
   "outputs": [
    {
     "name": "stdout",
     "output_type": "stream",
     "text": [
      "Test Acc:0.650919, Avg Loss: 0.019407\n"
     ]
    }
   ],
   "source": [
    "test(testLoader, model, loss_func)"
   ]
  }
 ],
 "metadata": {
  "interpreter": {
   "hash": "61a57a4b5406d2de388e2f91097d4e4bcd7d5f4a46f53a795aa28a02eed27fc5"
  },
  "kernelspec": {
   "display_name": "Python 3.8.8 64-bit ('base': conda)",
   "language": "python",
   "name": "python3"
  },
  "language_info": {
   "codemirror_mode": {
    "name": "ipython",
    "version": 3
   },
   "file_extension": ".py",
   "mimetype": "text/x-python",
   "name": "python",
   "nbconvert_exporter": "python",
   "pygments_lexer": "ipython3",
   "version": "3.9.7"
  },
  "orig_nbformat": 4
 },
 "nbformat": 4,
 "nbformat_minor": 2
}
