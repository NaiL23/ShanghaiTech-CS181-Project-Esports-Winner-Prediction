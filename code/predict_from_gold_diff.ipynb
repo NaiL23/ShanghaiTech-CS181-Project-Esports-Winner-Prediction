{
 "cells": [
  {
   "cell_type": "markdown",
   "metadata": {},
   "source": [
    "# Simple Expreiment: predict winner from gold difference at 10 minute"
   ]
  },
  {
   "cell_type": "code",
   "execution_count": 155,
   "metadata": {},
   "outputs": [],
   "source": [
    "# import libraries\n",
    "import pandas as pd\n",
    "import numpy as np\n",
    "import matplotlib.pyplot as plt\n",
    "from sklearn import preprocessing\n",
    "from sklearn.model_selection import train_test_split\n",
    "from sklearn.linear_model import LogisticRegression\n",
    "from sklearn.metrics import classification_report,accuracy_score"
   ]
  },
  {
   "cell_type": "markdown",
   "metadata": {},
   "source": [
    "## Dataset\n",
    "\n",
    "Source: https://www.kaggle.com/chuckephron/leagueoflegends"
   ]
  },
  {
   "cell_type": "code",
   "execution_count": 156,
   "metadata": {},
   "outputs": [
    {
     "data": {
      "text/html": [
       "<div>\n",
       "<style scoped>\n",
       "    .dataframe tbody tr th:only-of-type {\n",
       "        vertical-align: middle;\n",
       "    }\n",
       "\n",
       "    .dataframe tbody tr th {\n",
       "        vertical-align: top;\n",
       "    }\n",
       "\n",
       "    .dataframe thead th {\n",
       "        text-align: right;\n",
       "    }\n",
       "</style>\n",
       "<table border=\"1\" class=\"dataframe\">\n",
       "  <thead>\n",
       "    <tr style=\"text-align: right;\">\n",
       "      <th></th>\n",
       "      <th>League</th>\n",
       "      <th>Year</th>\n",
       "      <th>Season</th>\n",
       "      <th>Type</th>\n",
       "      <th>blueTeamTag</th>\n",
       "      <th>bResult</th>\n",
       "      <th>rResult</th>\n",
       "      <th>redTeamTag</th>\n",
       "      <th>gamelength</th>\n",
       "      <th>golddiff</th>\n",
       "      <th>...</th>\n",
       "      <th>redMiddleChamp</th>\n",
       "      <th>goldredMiddle</th>\n",
       "      <th>redADC</th>\n",
       "      <th>redADCChamp</th>\n",
       "      <th>goldredADC</th>\n",
       "      <th>redSupport</th>\n",
       "      <th>redSupportChamp</th>\n",
       "      <th>goldredSupport</th>\n",
       "      <th>redBans</th>\n",
       "      <th>Address</th>\n",
       "    </tr>\n",
       "  </thead>\n",
       "  <tbody>\n",
       "    <tr>\n",
       "      <th>0</th>\n",
       "      <td>NALCS</td>\n",
       "      <td>2015</td>\n",
       "      <td>Spring</td>\n",
       "      <td>Season</td>\n",
       "      <td>TSM</td>\n",
       "      <td>1</td>\n",
       "      <td>0</td>\n",
       "      <td>C9</td>\n",
       "      <td>40</td>\n",
       "      <td>[0, 0, -14, -65, -268, -431, -488, -789, -494,...</td>\n",
       "      <td>...</td>\n",
       "      <td>Fizz</td>\n",
       "      <td>[475, 475, 552, 842, 1178, 1378, 1635, 1949, 2...</td>\n",
       "      <td>Sneaky</td>\n",
       "      <td>Sivir</td>\n",
       "      <td>[475, 475, 532, 762, 1097, 1469, 1726, 2112, 2...</td>\n",
       "      <td>LemonNation</td>\n",
       "      <td>Thresh</td>\n",
       "      <td>[515, 515, 577, 722, 911, 1042, 1194, 1370, 14...</td>\n",
       "      <td>['Tristana', 'Leblanc', 'Nidalee']</td>\n",
       "      <td>http://matchhistory.na.leagueoflegends.com/en/...</td>\n",
       "    </tr>\n",
       "    <tr>\n",
       "      <th>1</th>\n",
       "      <td>NALCS</td>\n",
       "      <td>2015</td>\n",
       "      <td>Spring</td>\n",
       "      <td>Season</td>\n",
       "      <td>CST</td>\n",
       "      <td>0</td>\n",
       "      <td>1</td>\n",
       "      <td>DIG</td>\n",
       "      <td>38</td>\n",
       "      <td>[0, 0, -26, -18, 147, 237, -152, 18, 88, -242,...</td>\n",
       "      <td>...</td>\n",
       "      <td>Azir</td>\n",
       "      <td>[475, 475, 552, 786, 1097, 1389, 1660, 1955, 2...</td>\n",
       "      <td>CoreJJ</td>\n",
       "      <td>Corki</td>\n",
       "      <td>[475, 475, 532, 868, 1220, 1445, 1732, 1979, 2...</td>\n",
       "      <td>KiWiKiD</td>\n",
       "      <td>Annie</td>\n",
       "      <td>[515, 515, 583, 752, 900, 1066, 1236, 1417, 15...</td>\n",
       "      <td>['RekSai', 'Janna', 'Leblanc']</td>\n",
       "      <td>http://matchhistory.na.leagueoflegends.com/en/...</td>\n",
       "    </tr>\n",
       "  </tbody>\n",
       "</table>\n",
       "<p>2 rows × 57 columns</p>\n",
       "</div>"
      ],
      "text/plain": [
       "  League  Year  Season    Type blueTeamTag  bResult  rResult redTeamTag  \\\n",
       "0  NALCS  2015  Spring  Season         TSM        1        0         C9   \n",
       "1  NALCS  2015  Spring  Season         CST        0        1        DIG   \n",
       "\n",
       "   gamelength                                           golddiff  ...  \\\n",
       "0          40  [0, 0, -14, -65, -268, -431, -488, -789, -494,...  ...   \n",
       "1          38  [0, 0, -26, -18, 147, 237, -152, 18, 88, -242,...  ...   \n",
       "\n",
       "  redMiddleChamp                                      goldredMiddle  redADC  \\\n",
       "0           Fizz  [475, 475, 552, 842, 1178, 1378, 1635, 1949, 2...  Sneaky   \n",
       "1           Azir  [475, 475, 552, 786, 1097, 1389, 1660, 1955, 2...  CoreJJ   \n",
       "\n",
       "  redADCChamp                                         goldredADC   redSupport  \\\n",
       "0       Sivir  [475, 475, 532, 762, 1097, 1469, 1726, 2112, 2...  LemonNation   \n",
       "1       Corki  [475, 475, 532, 868, 1220, 1445, 1732, 1979, 2...      KiWiKiD   \n",
       "\n",
       "  redSupportChamp                                     goldredSupport  \\\n",
       "0          Thresh  [515, 515, 577, 722, 911, 1042, 1194, 1370, 14...   \n",
       "1           Annie  [515, 515, 583, 752, 900, 1066, 1236, 1417, 15...   \n",
       "\n",
       "                              redBans  \\\n",
       "0  ['Tristana', 'Leblanc', 'Nidalee']   \n",
       "1      ['RekSai', 'Janna', 'Leblanc']   \n",
       "\n",
       "                                             Address  \n",
       "0  http://matchhistory.na.leagueoflegends.com/en/...  \n",
       "1  http://matchhistory.na.leagueoflegends.com/en/...  \n",
       "\n",
       "[2 rows x 57 columns]"
      ]
     },
     "execution_count": 156,
     "metadata": {},
     "output_type": "execute_result"
    }
   ],
   "source": [
    "df = pd.read_csv('../data/LeagueofLegends.csv',sep=',')\n",
    "\n",
    "# preview dataset\n",
    "df.head(2)"
   ]
  },
  {
   "cell_type": "markdown",
   "metadata": {},
   "source": [
    "## Dataset preprocessing\n",
    "\n",
    "Add Winner for each match by merging two original columns:"
   ]
  },
  {
   "cell_type": "code",
   "execution_count": 157,
   "metadata": {},
   "outputs": [
    {
     "data": {
      "text/plain": [
       "0    blue\n",
       "1     red\n",
       "2    blue\n",
       "3     red\n",
       "4    blue\n",
       "Name: winner, dtype: object"
      ]
     },
     "execution_count": 157,
     "metadata": {},
     "output_type": "execute_result"
    }
   ],
   "source": [
    "df['winner'] = np.where(df['bResult']==1, 'blue', 'red')\n",
    "df.drop(['bResult', 'rResult'], axis = 1, inplace = True)\n",
    "\n",
    "df['winner'].head()"
   ]
  },
  {
   "cell_type": "markdown",
   "metadata": {},
   "source": [
    "Convert and get list-like gold difference:"
   ]
  },
  {
   "cell_type": "code",
   "execution_count": 158,
   "metadata": {},
   "outputs": [
    {
     "data": {
      "text/plain": [
       "0    [0, 0, -14, -65, -268, -431, -488, -789, -494,...\n",
       "1    [0, 0, -26, -18, 147, 237, -152, 18, 88, -242,...\n",
       "2    [0, 0, 10, -60, 34, 37, 589, 1064, 1258, 913, ...\n",
       "3    [0, 0, -15, 25, 228, -6, -243, 175, -346, 16, ...\n",
       "4    [40, 40, 44, -36, 113, 158, -121, -191, 23, 20...\n",
       "Name: golddiff, dtype: object"
      ]
     },
     "execution_count": 158,
     "metadata": {},
     "output_type": "execute_result"
    }
   ],
   "source": [
    "from ast import literal_eval\n",
    "df['golddiff'] = df['golddiff'].apply(literal_eval)\n",
    "df['golddiff'].head()"
   ]
  },
  {
   "cell_type": "markdown",
   "metadata": {},
   "source": [
    "\n",
    "For this task, we only reserve golddiff at 10 min:"
   ]
  },
  {
   "cell_type": "code",
   "execution_count": 159,
   "metadata": {},
   "outputs": [
    {
     "data": {
      "text/plain": [
       "0   -625\n",
       "1   -242\n",
       "2    913\n",
       "3     16\n",
       "4    205\n",
       "Name: golddiff, dtype: int64"
      ]
     },
     "execution_count": 159,
     "metadata": {},
     "output_type": "execute_result"
    }
   ],
   "source": [
    "df['golddiff'] = df['golddiff'].apply(lambda x : x[9])\n",
    "df['golddiff'].head()"
   ]
  },
  {
   "cell_type": "markdown",
   "metadata": {},
   "source": [
    "Finally, we get our x and y data for training:"
   ]
  },
  {
   "cell_type": "code",
   "execution_count": 160,
   "metadata": {},
   "outputs": [],
   "source": [
    "x = df['golddiff']\n",
    "y = df['winner']\n",
    "x_train, x_test, y_train, y_test = train_test_split(x, y, test_size = 0.1)"
   ]
  },
  {
   "cell_type": "markdown",
   "metadata": {},
   "source": [
    "## Train\n",
    "\n"
   ]
  },
  {
   "cell_type": "code",
   "execution_count": 161,
   "metadata": {},
   "outputs": [
    {
     "name": "stdout",
     "output_type": "stream",
     "text": [
      "              precision    recall  f1-score   support\n",
      "\n",
      "        blue       0.71      0.72      0.71       419\n",
      "         red       0.65      0.63      0.64       343\n",
      "\n",
      "    accuracy                           0.68       762\n",
      "   macro avg       0.68      0.68      0.68       762\n",
      "weighted avg       0.68      0.68      0.68       762\n",
      "\n"
     ]
    }
   ],
   "source": [
    "model_LR = LogisticRegression()\n",
    "model_LR.fit(np.array(x_train).reshape(-1, 1), y_train)\n",
    "y_pred = model_LR.predict(np.array(x_test).reshape(-1, 1))\n",
    "print(classification_report(y_test, y_pred))"
   ]
  }
 ],
 "metadata": {
  "interpreter": {
   "hash": "c1d0760c7ce9f7d327807be67b39761eab7b611a78e77843c7cfdcd49c3cb764"
  },
  "kernelspec": {
   "display_name": "Python 3.9.7 64-bit",
   "language": "python",
   "name": "python3"
  },
  "language_info": {
   "codemirror_mode": {
    "name": "ipython",
    "version": 3
   },
   "file_extension": ".py",
   "mimetype": "text/x-python",
   "name": "python",
   "nbconvert_exporter": "python",
   "pygments_lexer": "ipython3",
   "version": "3.9.7"
  },
  "orig_nbformat": 4
 },
 "nbformat": 4,
 "nbformat_minor": 2
}
