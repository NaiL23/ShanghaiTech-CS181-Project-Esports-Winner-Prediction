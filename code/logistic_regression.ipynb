{
 "cells": [
  {
   "cell_type": "markdown",
   "metadata": {},
   "source": [
    "# Predict Winner from Early-game Performance using Logistic Regression"
   ]
  },
  {
   "cell_type": "code",
   "execution_count": 298,
   "metadata": {},
   "outputs": [],
   "source": [
    "# import libraries\n",
    "import pandas as pd\n",
    "import numpy as np\n",
    "import matplotlib.pyplot as plt\n",
    "from sklearn.preprocessing import LabelEncoder, StandardScaler\n",
    "from sklearn.model_selection import train_test_split, GridSearchCV\n",
    "from sklearn.linear_model import LogisticRegression, SGDClassifier\n",
    "from sklearn.naive_bayes import CategoricalNB\n",
    "from sklearn.metrics import classification_report\n",
    "import warnings\n",
    "warnings.filterwarnings('ignore')"
   ]
  },
  {
   "cell_type": "markdown",
   "metadata": {},
   "source": [
    "## Dataset\n",
    "\n",
    "Source: https://oracleselixir.com/tools/downloads"
   ]
  },
  {
   "cell_type": "code",
   "execution_count": 299,
   "metadata": {},
   "outputs": [
    {
     "name": "stdout",
     "output_type": "stream",
     "text": [
      "# of matches: 7296\n"
     ]
    }
   ],
   "source": [
    "df = pd.read_csv('../data/2021_LoL_esports_match_data.csv', sep=',')\n",
    "df_complete = df[df['datacompleteness'] == 'complete']\n",
    "df_complete.reset_index(drop = True, inplace = True)\n",
    "df = df_complete[df_complete['position'] == 'team']\n",
    "df = df[df['side'] == 'Blue']\n",
    "df.reset_index(drop = True, inplace = True)\n",
    "\n",
    "print('# of matches: {}'.format(len(df)))"
   ]
  },
  {
   "cell_type": "markdown",
   "metadata": {},
   "source": [
    "## Dataset preprocessing\n",
    "\n",
    "Add Winner for each match by merging two original columns:"
   ]
  },
  {
   "cell_type": "code",
   "execution_count": 300,
   "metadata": {},
   "outputs": [
    {
     "data": {
      "text/html": [
       "<div>\n",
       "<style scoped>\n",
       "    .dataframe tbody tr th:only-of-type {\n",
       "        vertical-align: middle;\n",
       "    }\n",
       "\n",
       "    .dataframe tbody tr th {\n",
       "        vertical-align: top;\n",
       "    }\n",
       "\n",
       "    .dataframe thead th {\n",
       "        text-align: right;\n",
       "    }\n",
       "</style>\n",
       "<table border=\"1\" class=\"dataframe\">\n",
       "  <thead>\n",
       "    <tr style=\"text-align: right;\">\n",
       "      <th></th>\n",
       "      <th>winner</th>\n",
       "      <th>result</th>\n",
       "    </tr>\n",
       "  </thead>\n",
       "  <tbody>\n",
       "    <tr>\n",
       "      <th>0</th>\n",
       "      <td>blue</td>\n",
       "      <td>1</td>\n",
       "    </tr>\n",
       "    <tr>\n",
       "      <th>1</th>\n",
       "      <td>red</td>\n",
       "      <td>0</td>\n",
       "    </tr>\n",
       "    <tr>\n",
       "      <th>2</th>\n",
       "      <td>red</td>\n",
       "      <td>0</td>\n",
       "    </tr>\n",
       "    <tr>\n",
       "      <th>3</th>\n",
       "      <td>red</td>\n",
       "      <td>0</td>\n",
       "    </tr>\n",
       "    <tr>\n",
       "      <th>4</th>\n",
       "      <td>red</td>\n",
       "      <td>0</td>\n",
       "    </tr>\n",
       "  </tbody>\n",
       "</table>\n",
       "</div>"
      ],
      "text/plain": [
       "  winner  result\n",
       "0   blue       1\n",
       "1    red       0\n",
       "2    red       0\n",
       "3    red       0\n",
       "4    red       0"
      ]
     },
     "execution_count": 300,
     "metadata": {},
     "output_type": "execute_result"
    }
   ],
   "source": [
    "df['winner'] = np.where(df['result']==1, 'blue', 'red')\n",
    "df[['winner', 'result']].head()"
   ]
  },
  {
   "cell_type": "markdown",
   "metadata": {},
   "source": [
    "\n",
    "For this experiment, we reserve golddiff, expdiff, deathdiff at 15 min:"
   ]
  },
  {
   "cell_type": "code",
   "execution_count": 301,
   "metadata": {},
   "outputs": [
    {
     "data": {
      "text/html": [
       "<div>\n",
       "<style scoped>\n",
       "    .dataframe tbody tr th:only-of-type {\n",
       "        vertical-align: middle;\n",
       "    }\n",
       "\n",
       "    .dataframe tbody tr th {\n",
       "        vertical-align: top;\n",
       "    }\n",
       "\n",
       "    .dataframe thead th {\n",
       "        text-align: right;\n",
       "    }\n",
       "</style>\n",
       "<table border=\"1\" class=\"dataframe\">\n",
       "  <thead>\n",
       "    <tr style=\"text-align: right;\">\n",
       "      <th></th>\n",
       "      <th>golddiffat15</th>\n",
       "      <th>xpdiffat15</th>\n",
       "    </tr>\n",
       "  </thead>\n",
       "  <tbody>\n",
       "    <tr>\n",
       "      <th>0</th>\n",
       "      <td>5018.0</td>\n",
       "      <td>4255.0</td>\n",
       "    </tr>\n",
       "    <tr>\n",
       "      <th>1</th>\n",
       "      <td>573.0</td>\n",
       "      <td>-1879.0</td>\n",
       "    </tr>\n",
       "    <tr>\n",
       "      <th>2</th>\n",
       "      <td>-579.0</td>\n",
       "      <td>-1643.0</td>\n",
       "    </tr>\n",
       "    <tr>\n",
       "      <th>3</th>\n",
       "      <td>951.0</td>\n",
       "      <td>-107.0</td>\n",
       "    </tr>\n",
       "    <tr>\n",
       "      <th>4</th>\n",
       "      <td>2145.0</td>\n",
       "      <td>-420.0</td>\n",
       "    </tr>\n",
       "  </tbody>\n",
       "</table>\n",
       "</div>"
      ],
      "text/plain": [
       "   golddiffat15  xpdiffat15\n",
       "0        5018.0      4255.0\n",
       "1         573.0     -1879.0\n",
       "2        -579.0     -1643.0\n",
       "3         951.0      -107.0\n",
       "4        2145.0      -420.0"
      ]
     },
     "execution_count": 301,
     "metadata": {},
     "output_type": "execute_result"
    }
   ],
   "source": [
    "df[['golddiffat15', 'xpdiffat15']].head()\n",
    "# df['deathdiffat15'] = df['deathsat15'] - df['opp_deathsat15']\n",
    "# print(df[['deathdiffat15', 'deathsat15', 'opp_deathsat15']].head())"
   ]
  },
  {
   "cell_type": "markdown",
   "metadata": {},
   "source": [
    "Get champion lineup stats:"
   ]
  },
  {
   "cell_type": "code",
   "execution_count": 302,
   "metadata": {},
   "outputs": [],
   "source": [
    "champion_columns = [\n",
    "       'blueTopChamp', 'blueJungleChamp', 'blueMiddleChamp', 'blueADCChamp', 'blueSupportChamp',\n",
    "       'redTopChamp', 'redJungleChamp', 'redMiddleChamp', 'redADCChamp','redSupportChamp'\n",
    "]\n",
    "df[champion_columns] = np.NAN\n",
    "\n",
    "champion_map_blue = {'top':'blueTopChamp', 'jng':'blueJungleChamp', 'mid':'blueMiddleChamp', 'bot':'blueADCChamp', 'sup':'blueSupportChamp'}\n",
    "champion_map_red = {'top':'redTopChamp', 'jng':'redJungleChamp', 'mid':'redMiddleChamp', 'bot':'redADCChamp', 'sup':'redSupportChamp'}\n",
    "\n",
    "for i in range(len(df)) :\n",
    "    for j in range(5) :\n",
    "        position = df_complete['position'][i * 12 + j]\n",
    "        df[champion_map_blue[position]][i] = df_complete['champion'][i * 12 + j]\n",
    "        position = df_complete['position'][i * 12 + 5 + j ]\n",
    "        df[champion_map_red[position]][i] = df_complete['champion'][i * 12 + 5 + j]\n",
    "\n",
    "columns = champion_columns + ['golddiffat15', 'xpdiffat15']\n",
    "x = df[columns]\n",
    "y = df['result']"
   ]
  },
  {
   "cell_type": "markdown",
   "metadata": {},
   "source": [
    "Encode labels:"
   ]
  },
  {
   "cell_type": "code",
   "execution_count": 303,
   "metadata": {},
   "outputs": [
    {
     "name": "stdout",
     "output_type": "stream",
     "text": [
      "155 champions: ['Quinn' 'Rell' 'Karma' 'Graves' 'Illaoi' 'Akshan' 'Alistar' 'Fizz'\n",
      " 'Teemo' 'Vi' 'Malphite' 'Galio' 'Poppy' 'Miss Fortune' 'Lillia' 'Lucian'\n",
      " \"Kai'Sa\" 'Jarvan IV' 'Kled' 'Lux' 'Xayah' 'Fiora' 'Viktor' 'Twitch'\n",
      " 'Karthus' 'Kayle' 'Udyr' 'Taliyah' 'Thresh' 'Bard' 'Kassadin' 'Samira'\n",
      " 'Sejuani' \"Cho'Gath\" 'Morgana' 'Lissandra' 'Zilean' 'Janna' 'Camille'\n",
      " 'Sylas' 'Warwick' 'Vex' 'Shen' 'Zyra' 'Zed' 'Jayce' 'Zac' 'Corki'\n",
      " 'Fiddlesticks' 'Yone' 'Viego' 'Malzahar' 'Ashe' \"Kog'Maw\" 'Braum'\n",
      " 'Trundle' 'Kindred' 'Draven' 'Kennen' 'Rengar' 'Brand' 'Aphelios' 'Amumu'\n",
      " 'Yuumi' 'Skarner' 'Rakan' 'Azir' 'Tahm Kench' 'Renekton' 'Sion' 'Ornn'\n",
      " 'Singed' 'Tryndamere' 'Cassiopeia' 'Shyvana' 'Senna' 'Katarina'\n",
      " 'Mordekaiser' 'Vayne' 'Zoe' 'Riven' 'Caitlyn' 'Pantheon' 'Evelynn'\n",
      " 'Shaco' 'Xerath' 'Sivir' 'Aatrox' 'Akali' 'Diana' 'Ahri' 'Garen' 'Varus'\n",
      " 'Sett' 'Ivern' 'Olaf' 'Neeko' 'Urgot' 'Seraphine' 'Jinx' \"Kha'Zix\"\n",
      " 'Kalista' 'Kayn' 'Lee Sin' 'Talon' 'Nidalee' 'Volibear' 'Leona' 'Maokai'\n",
      " 'Gangplank' 'Ezreal' 'Wukong' 'Annie' 'Jax' 'Ryze' 'Dr. Mundo'\n",
      " 'Nunu & Willump' 'Twisted Fate' 'Yorick' 'Veigar' 'Elise' 'Gragas'\n",
      " \"Rek'Sai\" \"Vel'Koz\" 'Pyke' 'Nautilus' 'Syndra' 'LeBlanc' 'Nami' 'Jhin'\n",
      " 'Vladimir' 'Gnar' 'Orianna' 'Rumble' 'Heimerdinger' 'Soraka' 'Nasus'\n",
      " 'Ekko' 'Tristana' 'Darius' 'Xin Zhao' 'Qiyana' 'Irelia' 'Nocturne'\n",
      " 'Yasuo' 'Gwen' 'Hecarim' 'Swain' 'Rammus' 'Lulu' 'Anivia' 'Ziggs'\n",
      " 'Aurelion Sol' 'Blitzcrank' 'Taric']\n"
     ]
    },
    {
     "data": {
      "text/html": [
       "<div>\n",
       "<style scoped>\n",
       "    .dataframe tbody tr th:only-of-type {\n",
       "        vertical-align: middle;\n",
       "    }\n",
       "\n",
       "    .dataframe tbody tr th {\n",
       "        vertical-align: top;\n",
       "    }\n",
       "\n",
       "    .dataframe thead th {\n",
       "        text-align: right;\n",
       "    }\n",
       "</style>\n",
       "<table border=\"1\" class=\"dataframe\">\n",
       "  <thead>\n",
       "    <tr style=\"text-align: right;\">\n",
       "      <th></th>\n",
       "      <th>blueTopChamp</th>\n",
       "      <th>blueJungleChamp</th>\n",
       "      <th>blueMiddleChamp</th>\n",
       "      <th>blueADCChamp</th>\n",
       "      <th>blueSupportChamp</th>\n",
       "      <th>redTopChamp</th>\n",
       "      <th>redJungleChamp</th>\n",
       "      <th>redMiddleChamp</th>\n",
       "      <th>redADCChamp</th>\n",
       "      <th>redSupportChamp</th>\n",
       "      <th>golddiffat15</th>\n",
       "      <th>xpdiffat15</th>\n",
       "    </tr>\n",
       "  </thead>\n",
       "  <tbody>\n",
       "    <tr>\n",
       "      <th>0</th>\n",
       "      <td>75</td>\n",
       "      <td>37</td>\n",
       "      <td>153</td>\n",
       "      <td>74</td>\n",
       "      <td>32</td>\n",
       "      <td>86</td>\n",
       "      <td>60</td>\n",
       "      <td>85</td>\n",
       "      <td>28</td>\n",
       "      <td>65</td>\n",
       "      <td>5018.0</td>\n",
       "      <td>4255.0</td>\n",
       "    </tr>\n",
       "    <tr>\n",
       "      <th>1</th>\n",
       "      <td>36</td>\n",
       "      <td>37</td>\n",
       "      <td>99</td>\n",
       "      <td>50</td>\n",
       "      <td>4</td>\n",
       "      <td>86</td>\n",
       "      <td>84</td>\n",
       "      <td>116</td>\n",
       "      <td>74</td>\n",
       "      <td>32</td>\n",
       "      <td>573.0</td>\n",
       "      <td>-1879.0</td>\n",
       "    </tr>\n",
       "    <tr>\n",
       "      <th>2</th>\n",
       "      <td>36</td>\n",
       "      <td>37</td>\n",
       "      <td>153</td>\n",
       "      <td>145</td>\n",
       "      <td>4</td>\n",
       "      <td>99</td>\n",
       "      <td>81</td>\n",
       "      <td>146</td>\n",
       "      <td>74</td>\n",
       "      <td>32</td>\n",
       "      <td>-579.0</td>\n",
       "      <td>-1643.0</td>\n",
       "    </tr>\n",
       "    <tr>\n",
       "      <th>3</th>\n",
       "      <td>52</td>\n",
       "      <td>87</td>\n",
       "      <td>116</td>\n",
       "      <td>101</td>\n",
       "      <td>65</td>\n",
       "      <td>0</td>\n",
       "      <td>81</td>\n",
       "      <td>137</td>\n",
       "      <td>50</td>\n",
       "      <td>32</td>\n",
       "      <td>951.0</td>\n",
       "      <td>-107.0</td>\n",
       "    </tr>\n",
       "    <tr>\n",
       "      <th>4</th>\n",
       "      <td>46</td>\n",
       "      <td>39</td>\n",
       "      <td>85</td>\n",
       "      <td>101</td>\n",
       "      <td>4</td>\n",
       "      <td>17</td>\n",
       "      <td>66</td>\n",
       "      <td>137</td>\n",
       "      <td>50</td>\n",
       "      <td>73</td>\n",
       "      <td>2145.0</td>\n",
       "      <td>-420.0</td>\n",
       "    </tr>\n",
       "  </tbody>\n",
       "</table>\n",
       "</div>"
      ],
      "text/plain": [
       "   blueTopChamp  blueJungleChamp  blueMiddleChamp  blueADCChamp  \\\n",
       "0            75               37              153            74   \n",
       "1            36               37               99            50   \n",
       "2            36               37              153           145   \n",
       "3            52               87              116           101   \n",
       "4            46               39               85           101   \n",
       "\n",
       "   blueSupportChamp  redTopChamp  redJungleChamp  redMiddleChamp  redADCChamp  \\\n",
       "0                32           86              60              85           28   \n",
       "1                 4           86              84             116           74   \n",
       "2                 4           99              81             146           74   \n",
       "3                65            0              81             137           50   \n",
       "4                 4           17              66             137           50   \n",
       "\n",
       "   redSupportChamp  golddiffat15  xpdiffat15  \n",
       "0               65        5018.0      4255.0  \n",
       "1               32         573.0     -1879.0  \n",
       "2               32        -579.0     -1643.0  \n",
       "3               32         951.0      -107.0  \n",
       "4               73        2145.0      -420.0  "
      ]
     },
     "execution_count": 303,
     "metadata": {},
     "output_type": "execute_result"
    }
   ],
   "source": [
    "champion_label_encoder = LabelEncoder()\n",
    "champions = set()\n",
    "for champ in champion_columns :\n",
    "    champions |= set(pd.unique(x[champ]))\n",
    "champions = np.array(list(champions))\n",
    "print(f'{len(champions)} champions: {champions}')\n",
    "\n",
    "champion_label_encoder.fit(champions)\n",
    "for champ in champion_columns :\n",
    "    x[champ] = champion_label_encoder.transform(x[champ])\n",
    "\n",
    "x.head()"
   ]
  },
  {
   "cell_type": "markdown",
   "metadata": {},
   "source": [
    "Normalize data:"
   ]
  },
  {
   "cell_type": "code",
   "execution_count": 304,
   "metadata": {},
   "outputs": [
    {
     "data": {
      "text/html": [
       "<div>\n",
       "<style scoped>\n",
       "    .dataframe tbody tr th:only-of-type {\n",
       "        vertical-align: middle;\n",
       "    }\n",
       "\n",
       "    .dataframe tbody tr th {\n",
       "        vertical-align: top;\n",
       "    }\n",
       "\n",
       "    .dataframe thead th {\n",
       "        text-align: right;\n",
       "    }\n",
       "</style>\n",
       "<table border=\"1\" class=\"dataframe\">\n",
       "  <thead>\n",
       "    <tr style=\"text-align: right;\">\n",
       "      <th></th>\n",
       "      <th>blueTopChamp</th>\n",
       "      <th>blueJungleChamp</th>\n",
       "      <th>blueMiddleChamp</th>\n",
       "      <th>blueADCChamp</th>\n",
       "      <th>blueSupportChamp</th>\n",
       "      <th>redTopChamp</th>\n",
       "      <th>redJungleChamp</th>\n",
       "      <th>redMiddleChamp</th>\n",
       "      <th>redADCChamp</th>\n",
       "      <th>redSupportChamp</th>\n",
       "      <th>golddiffat15</th>\n",
       "      <th>xpdiffat15</th>\n",
       "    </tr>\n",
       "  </thead>\n",
       "  <tbody>\n",
       "    <tr>\n",
       "      <th>0</th>\n",
       "      <td>0.356081</td>\n",
       "      <td>-1.246656</td>\n",
       "      <td>1.447364</td>\n",
       "      <td>0.007940</td>\n",
       "      <td>-0.912481</td>\n",
       "      <td>0.650655</td>\n",
       "      <td>-0.566314</td>\n",
       "      <td>-0.060945</td>\n",
       "      <td>-1.022736</td>\n",
       "      <td>-0.054882</td>\n",
       "      <td>1.496092</td>\n",
       "      <td>1.875853</td>\n",
       "    </tr>\n",
       "    <tr>\n",
       "      <th>1</th>\n",
       "      <td>-0.619630</td>\n",
       "      <td>-1.246656</td>\n",
       "      <td>0.229419</td>\n",
       "      <td>-0.543770</td>\n",
       "      <td>-1.595501</td>\n",
       "      <td>0.650655</td>\n",
       "      <td>0.099456</td>\n",
       "      <td>0.619456</td>\n",
       "      <td>0.019262</td>\n",
       "      <td>-0.870246</td>\n",
       "      <td>0.089944</td>\n",
       "      <td>-0.846535</td>\n",
       "    </tr>\n",
       "    <tr>\n",
       "      <th>2</th>\n",
       "      <td>-0.619630</td>\n",
       "      <td>-1.246656</td>\n",
       "      <td>1.447364</td>\n",
       "      <td>1.640082</td>\n",
       "      <td>-1.595501</td>\n",
       "      <td>0.972483</td>\n",
       "      <td>0.016235</td>\n",
       "      <td>1.277908</td>\n",
       "      <td>0.019262</td>\n",
       "      <td>-0.870246</td>\n",
       "      <td>-0.274484</td>\n",
       "      <td>-0.741793</td>\n",
       "    </tr>\n",
       "    <tr>\n",
       "      <th>3</th>\n",
       "      <td>-0.219338</td>\n",
       "      <td>0.128378</td>\n",
       "      <td>0.612846</td>\n",
       "      <td>0.628614</td>\n",
       "      <td>-0.107494</td>\n",
       "      <td>-1.478358</td>\n",
       "      <td>0.016235</td>\n",
       "      <td>1.080372</td>\n",
       "      <td>-0.524389</td>\n",
       "      <td>-0.870246</td>\n",
       "      <td>0.209522</td>\n",
       "      <td>-0.060087</td>\n",
       "    </tr>\n",
       "    <tr>\n",
       "      <th>4</th>\n",
       "      <td>-0.369447</td>\n",
       "      <td>-1.191654</td>\n",
       "      <td>-0.086345</td>\n",
       "      <td>0.628614</td>\n",
       "      <td>-1.595501</td>\n",
       "      <td>-1.057507</td>\n",
       "      <td>-0.399871</td>\n",
       "      <td>1.080372</td>\n",
       "      <td>-0.524389</td>\n",
       "      <td>0.142782</td>\n",
       "      <td>0.587236</td>\n",
       "      <td>-0.199002</td>\n",
       "    </tr>\n",
       "  </tbody>\n",
       "</table>\n",
       "</div>"
      ],
      "text/plain": [
       "   blueTopChamp  blueJungleChamp  blueMiddleChamp  blueADCChamp  \\\n",
       "0      0.356081        -1.246656         1.447364      0.007940   \n",
       "1     -0.619630        -1.246656         0.229419     -0.543770   \n",
       "2     -0.619630        -1.246656         1.447364      1.640082   \n",
       "3     -0.219338         0.128378         0.612846      0.628614   \n",
       "4     -0.369447        -1.191654        -0.086345      0.628614   \n",
       "\n",
       "   blueSupportChamp  redTopChamp  redJungleChamp  redMiddleChamp  redADCChamp  \\\n",
       "0         -0.912481     0.650655       -0.566314       -0.060945    -1.022736   \n",
       "1         -1.595501     0.650655        0.099456        0.619456     0.019262   \n",
       "2         -1.595501     0.972483        0.016235        1.277908     0.019262   \n",
       "3         -0.107494    -1.478358        0.016235        1.080372    -0.524389   \n",
       "4         -1.595501    -1.057507       -0.399871        1.080372    -0.524389   \n",
       "\n",
       "   redSupportChamp  golddiffat15  xpdiffat15  \n",
       "0        -0.054882      1.496092    1.875853  \n",
       "1        -0.870246      0.089944   -0.846535  \n",
       "2        -0.870246     -0.274484   -0.741793  \n",
       "3        -0.870246      0.209522   -0.060087  \n",
       "4         0.142782      0.587236   -0.199002  "
      ]
     },
     "execution_count": 304,
     "metadata": {},
     "output_type": "execute_result"
    }
   ],
   "source": [
    "scaler = StandardScaler()\n",
    "scaler.fit(x)\n",
    "x = scaler.transform(x)\n",
    "x = pd.DataFrame(x, columns = columns)\n",
    "\n",
    "x.head()"
   ]
  },
  {
   "cell_type": "markdown",
   "metadata": {},
   "source": [
    "Finally, we get our x and y data for training."
   ]
  },
  {
   "cell_type": "code",
   "execution_count": 305,
   "metadata": {},
   "outputs": [
    {
     "data": {
      "text/plain": [
       "((5836, 12), (1460, 12))"
      ]
     },
     "execution_count": 305,
     "metadata": {},
     "output_type": "execute_result"
    }
   ],
   "source": [
    "x_train, x_test, y_train, y_test = train_test_split(x, y, test_size = 0.2, random_state = 0)\n",
    "\n",
    "x_train.shape, x_test.shape"
   ]
  },
  {
   "cell_type": "markdown",
   "metadata": {},
   "source": [
    "## Train & Test\n",
    "\n",
    "Train Logistic Regression model and test its accuracy.\n",
    "\n",
    "Using `SGDClassifier(loss='log')` is equivalent to Logistic Regression optimized via Stochastic Gradient Descent taught in CS181 lecture."
   ]
  },
  {
   "cell_type": "code",
   "execution_count": 306,
   "metadata": {},
   "outputs": [
    {
     "name": "stdout",
     "output_type": "stream",
     "text": [
      "SGDClassifier(alpha=0.1, loss='log', random_state=0)\n",
      "[[-0.03749475 -0.02517247  0.02171632 -0.01049216  0.00431097  0.02789022\n",
      "   0.02071576  0.04019872  0.01428512  0.00536357  0.68051888  0.51028488]]\n",
      "              precision    recall  f1-score   support\n",
      "\n",
      "           0       0.73      0.72      0.72       656\n",
      "           1       0.77      0.78      0.78       804\n",
      "\n",
      "    accuracy                           0.75      1460\n",
      "   macro avg       0.75      0.75      0.75      1460\n",
      "weighted avg       0.75      0.75      0.75      1460\n",
      "\n"
     ]
    }
   ],
   "source": [
    "parameters = {'alpha':[0.001, 0.005, 0.01, 0.05, 0.1, 0.5,  1, 2, 4, 8, 16]}\n",
    "model = SGDClassifier(loss = 'log', random_state = 0)\n",
    "model_LR_grid = GridSearchCV(model, param_grid = parameters)\n",
    "model_LR_grid.fit(x_train, y_train)\n",
    "\n",
    "model_LR = model_LR_grid.best_estimator_\n",
    "print(model_LR)\n",
    "print(model_LR.coef_)\n",
    "\n",
    "y_pred = model_LR.predict(x_test)\n",
    "\n",
    "print(classification_report(y_test, y_pred))"
   ]
  },
  {
   "cell_type": "markdown",
   "metadata": {},
   "source": [
    "Test/predict single one match:"
   ]
  },
  {
   "cell_type": "code",
   "execution_count": 307,
   "metadata": {},
   "outputs": [
    {
     "name": "stdout",
     "output_type": "stream",
     "text": [
      "model predicted winner : red\n",
      "red wins: 57.0% | blue wins: 43.0%\n"
     ]
    }
   ],
   "source": [
    "''' S11 EDG vs DK, match 3, DK(red) wins '''\n",
    "# golddiffat15 = 922\n",
    "# xpdiffat15 = -219\n",
    "# champion_lineup_blue = ['Jayce', 'Xin Zhao', 'Twisted Fate', 'Jhin', 'Leona'] \n",
    "# champion_lineup_red = ['Gragas', 'Lee Sin', 'Sylas', 'Aphelios', 'Braum']\n",
    "\n",
    "''' S11 EDG vs DK, match 4, EDG(blue) wins '''\n",
    "# golddiffat15 = 2057\n",
    "# xpdiffat15 = 1563\n",
    "# champion_lineup_blue = ['Graves', 'Viego', 'Zoe', 'Lucian', 'Lulu'] \n",
    "# champion_lineup_red = ['Gwen', 'Talon', 'Orianna', 'Jhin', 'Nami'] \n",
    "\n",
    "''' S11 DK vs EDG, match 5, EDG(red) wins ''' \n",
    "golddiffat15 = -795\n",
    "xpdiffat15 = -1087\n",
    "champion_lineup_blue = ['Graves', 'Trundle', 'Syndra', 'Ziggs', 'Leona'] \n",
    "champion_lineup_red = ['Kennen', 'Xin Zhao', 'Zoe', 'Aphelios', 'Rakan']\n",
    "\n",
    "x = [np.concatenate([champion_label_encoder.transform(champion_lineup_blue), champion_label_encoder.transform(champion_lineup_red) , [golddiffat15, xpdiffat15]])]\n",
    "x = scaler.transform(x)\n",
    "\n",
    "y_pred = model_LR.predict_proba(x)\n",
    "\n",
    "print(f\"model predicted winner : {'blue' if model_LR.predict(x)[0] else 'red'}\")\n",
    "print(f\"red wins: {y_pred[0][0] * 100:.1f}% | blue wins: {y_pred[0][1] * 100:.1f}%\")"
   ]
  }
 ],
 "metadata": {
  "interpreter": {
   "hash": "c1d0760c7ce9f7d327807be67b39761eab7b611a78e77843c7cfdcd49c3cb764"
  },
  "kernelspec": {
   "display_name": "Python 3.9.7 64-bit",
   "language": "python",
   "name": "python3"
  },
  "language_info": {
   "codemirror_mode": {
    "name": "ipython",
    "version": 3
   },
   "file_extension": ".py",
   "mimetype": "text/x-python",
   "name": "python",
   "nbconvert_exporter": "python",
   "pygments_lexer": "ipython3",
   "version": "3.9.7"
  },
  "orig_nbformat": 4
 },
 "nbformat": 4,
 "nbformat_minor": 2
}
