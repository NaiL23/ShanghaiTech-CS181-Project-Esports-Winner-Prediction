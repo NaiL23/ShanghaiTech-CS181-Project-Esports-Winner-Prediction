{
 "cells": [
  {
   "cell_type": "markdown",
   "metadata": {},
   "source": [
    "# Predict Winner from Realtime Stats using RNN"
   ]
  },
  {
   "cell_type": "code",
   "execution_count": 118,
   "metadata": {},
   "outputs": [],
   "source": [
    "import torch\n",
    "from torch import nn\n",
    "import torchvision\n",
    "from torch.utils.data import Dataset\n",
    "from torch.utils.data import random_split\n",
    "from torch.utils.data import DataLoader\n",
    "import torch.nn.functional as F\n",
    "from torch.autograd import Variable\n",
    "import pandas as pd\n",
    "import numpy as np\n",
    "import matplotlib.pyplot as plt\n",
    "import re\n",
    "import warnings\n",
    "warnings.filterwarnings('ignore')\n",
    "from tqdm import tqdm\n",
    "\n",
    "\n",
    "SEED = 233\n",
    "BATCH_SIZE = 32\n",
    "PREDICT_TIME = 20"
   ]
  },
  {
   "cell_type": "markdown",
   "metadata": {},
   "source": [
    "## Dataset"
   ]
  },
  {
   "cell_type": "code",
   "execution_count": 119,
   "metadata": {},
   "outputs": [],
   "source": [
    "class LOLDataset(Dataset):\n",
    "    def __init__(self,moneyData,label):\n",
    "        self.money=[]\n",
    "        for i in range(PREDICT_TIME):\n",
    "            # self.money.append([line[i] if i < len(line) else line[-1] for line in moneyData ])\n",
    "            self.money.append([line[i] for line in moneyData ])\n",
    "        self.label=[i for i in label]\n",
    "    \n",
    "    def __getitem__(self, item):\n",
    "        return torch.tensor([[torch.scalar_tensor(x[item])] for x in self.money]),torch.tensor(self.label[item])\n",
    "    \n",
    "    def __len__(self):\n",
    "        return len(self.label)\n",
    "            "
   ]
  },
  {
   "cell_type": "code",
   "execution_count": 120,
   "metadata": {},
   "outputs": [
    {
     "name": "stdout",
     "output_type": "stream",
     "text": [
      "# of matches: 7616\n"
     ]
    },
    {
     "data": {
      "text/plain": [
       "0    [0, 0, -14, -65, -268, -431, -488, -789, -494,...\n",
       "1    [0, 0, -26, -18, 147, 237, -152, 18, 88, -242,...\n",
       "2    [0, 0, 10, -60, 34, 37, 589, 1064, 1258, 913, ...\n",
       "3    [0, 0, -15, 25, 228, -6, -243, 175, -346, 16, ...\n",
       "4    [40, 40, 44, -36, 113, 158, -121, -191, 23, 20...\n",
       "Name: golddiff, dtype: object"
      ]
     },
     "execution_count": 120,
     "metadata": {},
     "output_type": "execute_result"
    }
   ],
   "source": [
    "df = pd.read_csv('../data/LeagueofLegends.csv', sep=',')\n",
    "df = df[df['gamelength'] >= PREDICT_TIME]\n",
    "df.reset_index(drop = True, inplace = True)\n",
    "print(f'# of matches: {len(df)}')\n",
    "\n",
    "from ast import literal_eval\n",
    "df['golddiff'] = df['golddiff'].apply(literal_eval)\n",
    "df['golddiff'].head()\n",
    "# df[\"bResult\"]"
   ]
  },
  {
   "cell_type": "markdown",
   "metadata": {},
   "source": [
    "Normalize data:"
   ]
  },
  {
   "cell_type": "code",
   "execution_count": 121,
   "metadata": {},
   "outputs": [
    {
     "name": "stdout",
     "output_type": "stream",
     "text": [
      "7616\n"
     ]
    }
   ],
   "source": [
    "from sklearn.preprocessing import StandardScaler\n",
    "scaler = StandardScaler()\n",
    "for row in df['golddiff']:\n",
    "    scaler.partial_fit(np.asanyarray(row).reshape(-1, 1))\n",
    "\n",
    "golddiff = [scaler.transform(np.asanyarray(row).reshape(-1, 1)).reshape(-1) for row in df['golddiff']]\n",
    "print(len(golddiff))"
   ]
  },
  {
   "cell_type": "markdown",
   "metadata": {},
   "source": [
    "Split the dataset into Train:Held-Out:Test = 6:2:2."
   ]
  },
  {
   "cell_type": "code",
   "execution_count": 122,
   "metadata": {},
   "outputs": [],
   "source": [
    "dataset = LOLDataset(golddiff, df[\"bResult\"])\n",
    "test_size = valid_size = int(0.2 * len(dataset))\n",
    "train_size = len(dataset)- test_size - valid_size\n",
    "\n",
    "trainDataset, validDataset, testDataset = random_split(\n",
    "    dataset = dataset,\n",
    "    lengths = [train_size, valid_size, test_size],\n",
    "    generator = torch.Generator().manual_seed(SEED)\n",
    ")\n",
    "\n",
    "trainLoader = DataLoader(trainDataset, batch_size = BATCH_SIZE, shuffle=True)\n",
    "validLoader = DataLoader(validDataset, batch_size = BATCH_SIZE)\n",
    "testLoader = DataLoader(testDataset, batch_size = BATCH_SIZE)"
   ]
  },
  {
   "cell_type": "markdown",
   "metadata": {},
   "source": [
    "## RNN Network"
   ]
  },
  {
   "cell_type": "code",
   "execution_count": 123,
   "metadata": {},
   "outputs": [],
   "source": [
    "class RNN(nn.Module):\n",
    "    def __init__(self):\n",
    "        super(RNN,self).__init__()\n",
    "\n",
    "        self.rnn=nn.LSTM(\n",
    "            input_size = 1,\n",
    "            hidden_size = 256,\n",
    "            num_layers = 1,\n",
    "            batch_first = True\n",
    "        )\n",
    "\n",
    "        self.out = nn.Linear(256, 2)\n",
    "    \n",
    "    def forward(self,x):\n",
    "        r_out,(h_n, h_c)=self.rnn(x,None)\n",
    "        out = self.out(r_out[:, -1, :])\n",
    "        return out"
   ]
  },
  {
   "cell_type": "code",
   "execution_count": 124,
   "metadata": {},
   "outputs": [
    {
     "name": "stdout",
     "output_type": "stream",
     "text": [
      "RNN(\n",
      "  (rnn): LSTM(1, 256, batch_first=True)\n",
      "  (out): Linear(in_features=256, out_features=2, bias=True)\n",
      ")\n"
     ]
    }
   ],
   "source": [
    "model=RNN()\n",
    "print(model)"
   ]
  },
  {
   "cell_type": "markdown",
   "metadata": {},
   "source": [
    "## Train"
   ]
  },
  {
   "cell_type": "code",
   "execution_count": 125,
   "metadata": {},
   "outputs": [],
   "source": [
    "def train(dataloader, model, loss_fn, optimizer, mute = False):\n",
    "    size = len(dataloader.dataset)\n",
    "    for batch, (x, y) in enumerate(dataloader):\n",
    "        x, y = Variable(x), Variable(y)\n",
    "\n",
    "        predict = model(x)\n",
    "        loss = loss_fn(predict, y)\n",
    "        \n",
    "        optimizer.zero_grad()\n",
    "        loss.backward()\n",
    "        optimizer.step()\n",
    "\n",
    "        if batch % 20 == 0 and not mute:\n",
    "            loss, current = loss.item(), batch * len(x)\n",
    "            print(f\"loss: {loss:>7f}  [{current:>5d}/{size:>5d}]\")"
   ]
  },
  {
   "cell_type": "code",
   "execution_count": 126,
   "metadata": {},
   "outputs": [],
   "source": [
    "def test(dataloader, model, loss_fn, validation = False):\n",
    "    model.eval()\n",
    "    size = len(dataloader.dataset)\n",
    "\n",
    "    correct = 0\n",
    "    test_loss = 0\n",
    "    with torch.no_grad():\n",
    "        for step,(x,y) in enumerate(dataloader):\n",
    "            x, y = Variable(x), Variable(y)\n",
    "            predict = model(x)\n",
    "            # print(predict)\n",
    "            test_loss += loss_fn(predict, y).item()\n",
    "            correct += (predict.argmax(1) == y).sum().item()\n",
    "    \n",
    "    print(f\"{'Valid' if validation else 'Test'} Acc:{correct/size:>7f}, Avg Loss: {test_loss/size:>7f}\")"
   ]
  },
  {
   "cell_type": "code",
   "execution_count": 116,
   "metadata": {},
   "outputs": [
    {
     "name": "stdout",
     "output_type": "stream",
     "text": [
      "--------- Epoch #1 ---------\n",
      "loss: 0.692958  [    0/ 4570]\n",
      "loss: 0.579299  [  640/ 4570]\n",
      "loss: 0.592341  [ 1280/ 4570]\n",
      "loss: 0.490923  [ 1920/ 4570]\n",
      "loss: 0.448349  [ 2560/ 4570]\n",
      "loss: 0.385474  [ 3200/ 4570]\n",
      "loss: 0.519420  [ 3840/ 4570]\n",
      "loss: 0.485556  [ 4480/ 4570]\n",
      "Valid Acc:0.758372, Avg Loss: 0.015792\n",
      "--------- Epoch #2 ---------\n",
      "loss: 0.546007  [    0/ 4570]\n",
      "loss: 0.619937  [  640/ 4570]\n",
      "loss: 0.389434  [ 1280/ 4570]\n",
      "loss: 0.554310  [ 1920/ 4570]\n",
      "loss: 0.388704  [ 2560/ 4570]\n",
      "loss: 0.465300  [ 3200/ 4570]\n",
      "loss: 0.534413  [ 3840/ 4570]\n",
      "loss: 0.371646  [ 4480/ 4570]\n",
      "Valid Acc:0.771504, Avg Loss: 0.015517\n",
      "--------- Epoch #3 ---------\n",
      "loss: 0.489198  [    0/ 4570]\n",
      "loss: 0.458883  [  640/ 4570]\n",
      "loss: 0.499965  [ 1280/ 4570]\n",
      "loss: 0.556657  [ 1920/ 4570]\n",
      "loss: 0.583591  [ 2560/ 4570]\n",
      "loss: 0.520001  [ 3200/ 4570]\n",
      "loss: 0.495685  [ 3840/ 4570]\n",
      "loss: 0.481929  [ 4480/ 4570]\n",
      "Valid Acc:0.772817, Avg Loss: 0.015352\n",
      "--------- Epoch #4 ---------\n",
      "loss: 0.467212  [    0/ 4570]\n",
      "loss: 0.653158  [  640/ 4570]\n",
      "loss: 0.425511  [ 1280/ 4570]\n",
      "loss: 0.490212  [ 1920/ 4570]\n",
      "loss: 0.563652  [ 2560/ 4570]\n",
      "loss: 0.545654  [ 3200/ 4570]\n",
      "loss: 0.607489  [ 3840/ 4570]\n",
      "loss: 0.610355  [ 4480/ 4570]\n",
      "Valid Acc:0.768221, Avg Loss: 0.015340\n",
      "--------- Epoch #5 ---------\n",
      "loss: 0.527154  [    0/ 4570]\n",
      "loss: 0.447110  [  640/ 4570]\n",
      "loss: 0.476732  [ 1280/ 4570]\n",
      "loss: 0.335850  [ 1920/ 4570]\n",
      "loss: 0.522092  [ 2560/ 4570]\n",
      "loss: 0.462495  [ 3200/ 4570]\n",
      "loss: 0.455086  [ 3840/ 4570]\n",
      "loss: 0.512091  [ 4480/ 4570]\n",
      "Valid Acc:0.755089, Avg Loss: 0.015598\n",
      "--------- Epoch #6 ---------\n",
      "loss: 0.375768  [    0/ 4570]\n",
      "loss: 0.444871  [  640/ 4570]\n",
      "loss: 0.432034  [ 1280/ 4570]\n",
      "loss: 0.563454  [ 1920/ 4570]\n",
      "loss: 0.485259  [ 2560/ 4570]\n",
      "loss: 0.486908  [ 3200/ 4570]\n",
      "loss: 0.613671  [ 3840/ 4570]\n",
      "loss: 0.661867  [ 4480/ 4570]\n",
      "Valid Acc:0.772160, Avg Loss: 0.015257\n",
      "--------- Epoch #7 ---------\n",
      "loss: 0.456427  [    0/ 4570]\n",
      "loss: 0.434831  [  640/ 4570]\n",
      "loss: 0.507065  [ 1280/ 4570]\n",
      "loss: 0.351305  [ 1920/ 4570]\n",
      "loss: 0.525316  [ 2560/ 4570]\n",
      "loss: 0.542802  [ 3200/ 4570]\n",
      "loss: 0.463447  [ 3840/ 4570]\n",
      "loss: 0.366018  [ 4480/ 4570]\n",
      "Valid Acc:0.763624, Avg Loss: 0.015348\n",
      "--------- Epoch #8 ---------\n",
      "loss: 0.514468  [    0/ 4570]\n",
      "loss: 0.516444  [  640/ 4570]\n",
      "loss: 0.404666  [ 1280/ 4570]\n",
      "loss: 0.389259  [ 1920/ 4570]\n",
      "loss: 0.353099  [ 2560/ 4570]\n",
      "loss: 0.416302  [ 3200/ 4570]\n",
      "loss: 0.505341  [ 3840/ 4570]\n",
      "loss: 0.465850  [ 4480/ 4570]\n",
      "Valid Acc:0.774130, Avg Loss: 0.015215\n",
      "--------- Epoch #9 ---------\n",
      "loss: 0.541771  [    0/ 4570]\n",
      "loss: 0.409829  [  640/ 4570]\n",
      "loss: 0.612022  [ 1280/ 4570]\n",
      "loss: 0.528368  [ 1920/ 4570]\n",
      "loss: 0.513535  [ 2560/ 4570]\n",
      "loss: 0.469008  [ 3200/ 4570]\n",
      "loss: 0.332198  [ 3840/ 4570]\n",
      "loss: 0.412769  [ 4480/ 4570]\n",
      "Valid Acc:0.764938, Avg Loss: 0.015343\n",
      "--------- Epoch #10 ---------\n",
      "loss: 0.684428  [    0/ 4570]\n",
      "loss: 0.555794  [  640/ 4570]\n",
      "loss: 0.389715  [ 1280/ 4570]\n",
      "loss: 0.501437  [ 1920/ 4570]\n",
      "loss: 0.608923  [ 2560/ 4570]\n",
      "loss: 0.350367  [ 3200/ 4570]\n",
      "loss: 0.555682  [ 3840/ 4570]\n",
      "loss: 0.511890  [ 4480/ 4570]\n",
      "Valid Acc:0.774787, Avg Loss: 0.015192\n",
      "--------- Epoch #11 ---------\n",
      "loss: 0.437666  [    0/ 4570]\n",
      "loss: 0.389010  [  640/ 4570]\n",
      "loss: 0.553659  [ 1280/ 4570]\n",
      "loss: 0.468883  [ 1920/ 4570]\n",
      "loss: 0.423825  [ 2560/ 4570]\n",
      "loss: 0.495630  [ 3200/ 4570]\n",
      "loss: 0.610947  [ 3840/ 4570]\n",
      "loss: 0.692569  [ 4480/ 4570]\n",
      "Valid Acc:0.774787, Avg Loss: 0.015256\n",
      "--------- Epoch #12 ---------\n",
      "loss: 0.468503  [    0/ 4570]\n",
      "loss: 0.491682  [  640/ 4570]\n",
      "loss: 0.438467  [ 1280/ 4570]\n",
      "loss: 0.584268  [ 1920/ 4570]\n",
      "loss: 0.498161  [ 2560/ 4570]\n",
      "loss: 0.607412  [ 3200/ 4570]\n",
      "loss: 0.561805  [ 3840/ 4570]\n",
      "loss: 0.474569  [ 4480/ 4570]\n",
      "Valid Acc:0.774787, Avg Loss: 0.015194\n",
      "--------- Epoch #13 ---------\n",
      "loss: 0.496868  [    0/ 4570]\n",
      "loss: 0.429717  [  640/ 4570]\n",
      "loss: 0.585815  [ 1280/ 4570]\n",
      "loss: 0.427942  [ 1920/ 4570]\n",
      "loss: 0.377984  [ 2560/ 4570]\n",
      "loss: 0.469719  [ 3200/ 4570]\n",
      "loss: 0.605050  [ 3840/ 4570]\n",
      "loss: 0.452195  [ 4480/ 4570]\n",
      "Valid Acc:0.766907, Avg Loss: 0.015301\n",
      "--------- Epoch #14 ---------\n",
      "loss: 0.427499  [    0/ 4570]\n",
      "loss: 0.544761  [  640/ 4570]\n",
      "loss: 0.484706  [ 1280/ 4570]\n",
      "loss: 0.462916  [ 1920/ 4570]\n",
      "loss: 0.664940  [ 2560/ 4570]\n",
      "loss: 0.520768  [ 3200/ 4570]\n",
      "loss: 0.413531  [ 3840/ 4570]\n",
      "loss: 0.480430  [ 4480/ 4570]\n",
      "Valid Acc:0.768877, Avg Loss: 0.015311\n",
      "--------- Epoch #15 ---------\n",
      "loss: 0.408671  [    0/ 4570]\n",
      "loss: 0.296795  [  640/ 4570]\n",
      "loss: 0.480783  [ 1280/ 4570]\n",
      "loss: 0.414086  [ 1920/ 4570]\n",
      "loss: 0.336514  [ 2560/ 4570]\n",
      "loss: 0.491641  [ 3200/ 4570]\n",
      "loss: 0.568206  [ 3840/ 4570]\n",
      "loss: 0.610466  [ 4480/ 4570]\n",
      "Valid Acc:0.772160, Avg Loss: 0.015187\n"
     ]
    }
   ],
   "source": [
    "MUTE = False\n",
    "EPOCH = 15\n",
    "LR = 0.0005\n",
    "\n",
    "torch.manual_seed(SEED)\n",
    "np.random.seed(SEED)\n",
    "\n",
    "optimizer = torch.optim.Adam(model.parameters(), lr = LR)\n",
    "loss_func = nn.CrossEntropyLoss()\n",
    "\n",
    "for epoch in range(1, EPOCH + 1):\n",
    "    print(f\"--------- Epoch #{epoch} ---------\")\n",
    "    train(trainLoader, model, loss_func, optimizer, mute = MUTE)\n",
    "    test(validLoader, model, loss_func, validation = True)\n"
   ]
  },
  {
   "cell_type": "markdown",
   "metadata": {},
   "source": [
    "## Test"
   ]
  },
  {
   "cell_type": "code",
   "execution_count": 117,
   "metadata": {},
   "outputs": [
    {
     "name": "stdout",
     "output_type": "stream",
     "text": [
      "Test Acc:0.770190, Avg Loss: 0.014880\n"
     ]
    }
   ],
   "source": [
    "test(testLoader, model, loss_func)"
   ]
  }
 ],
 "metadata": {
  "interpreter": {
   "hash": "61a57a4b5406d2de388e2f91097d4e4bcd7d5f4a46f53a795aa28a02eed27fc5"
  },
  "kernelspec": {
   "display_name": "Python 3.8.8 64-bit ('base': conda)",
   "language": "python",
   "name": "python3"
  },
  "language_info": {
   "codemirror_mode": {
    "name": "ipython",
    "version": 3
   },
   "file_extension": ".py",
   "mimetype": "text/x-python",
   "name": "python",
   "nbconvert_exporter": "python",
   "pygments_lexer": "ipython3",
   "version": "3.9.7"
  },
  "orig_nbformat": 4
 },
 "nbformat": 4,
 "nbformat_minor": 2
}
