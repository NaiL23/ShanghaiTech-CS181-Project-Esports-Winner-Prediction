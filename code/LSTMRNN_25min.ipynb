{
 "cells": [
  {
   "cell_type": "markdown",
   "metadata": {},
   "source": [
    "# Predict Winner from Realtime Stats using RNN"
   ]
  },
  {
   "cell_type": "code",
   "execution_count": 69,
   "metadata": {},
   "outputs": [],
   "source": [
    "import torch\n",
    "from torch import nn\n",
    "import torchvision\n",
    "from torch.utils.data import Dataset\n",
    "from torch.utils.data import random_split\n",
    "from torch.utils.data import DataLoader\n",
    "import torch.nn.functional as F\n",
    "from torch.autograd import Variable\n",
    "import pandas as pd\n",
    "import numpy as np\n",
    "import matplotlib.pyplot as plt\n",
    "import re\n",
    "import warnings\n",
    "warnings.filterwarnings('ignore')\n",
    "from tqdm import tqdm\n",
    "\n",
    "\n",
    "SEED = 233\n",
    "BATCH_SIZE = 32\n",
    "PREDICT_TIME = 25"
   ]
  },
  {
   "cell_type": "markdown",
   "metadata": {},
   "source": [
    "## Dataset"
   ]
  },
  {
   "cell_type": "code",
   "execution_count": 70,
   "metadata": {},
   "outputs": [],
   "source": [
    "class LOLDataset(Dataset):\n",
    "    def __init__(self,moneyData,label):\n",
    "        self.money=[]\n",
    "        for i in range(PREDICT_TIME):\n",
    "            # self.money.append([line[i] if i < len(line) else line[-1] for line in moneyData ])\n",
    "            self.money.append([line[i] for line in moneyData ])\n",
    "        self.label=[i for i in label]\n",
    "    \n",
    "    def __getitem__(self, item):\n",
    "        return torch.tensor([[torch.scalar_tensor(x[item])] for x in self.money]),torch.tensor(self.label[item])\n",
    "    \n",
    "    def __len__(self):\n",
    "        return len(self.label)\n",
    "            "
   ]
  },
  {
   "cell_type": "code",
   "execution_count": 71,
   "metadata": {},
   "outputs": [
    {
     "name": "stdout",
     "output_type": "stream",
     "text": [
      "# of matches: 7441\n"
     ]
    },
    {
     "data": {
      "text/plain": [
       "0    [0, 0, -14, -65, -268, -431, -488, -789, -494,...\n",
       "1    [0, 0, -26, -18, 147, 237, -152, 18, 88, -242,...\n",
       "2    [0, 0, 10, -60, 34, 37, 589, 1064, 1258, 913, ...\n",
       "3    [0, 0, -15, 25, 228, -6, -243, 175, -346, 16, ...\n",
       "4    [40, 40, 44, -36, 113, 158, -121, -191, 23, 20...\n",
       "Name: golddiff, dtype: object"
      ]
     },
     "execution_count": 71,
     "metadata": {},
     "output_type": "execute_result"
    }
   ],
   "source": [
    "df = pd.read_csv('../data/LeagueofLegends.csv', sep=',')\n",
    "df = df[df['gamelength'] >= PREDICT_TIME]\n",
    "df.reset_index(drop = True, inplace = True)\n",
    "print(f'# of matches: {len(df)}')\n",
    "\n",
    "from ast import literal_eval\n",
    "df['golddiff'] = df['golddiff'].apply(literal_eval)\n",
    "df['golddiff'].head()\n",
    "# df[\"bResult\"]"
   ]
  },
  {
   "cell_type": "markdown",
   "metadata": {},
   "source": [
    "Normalize data:"
   ]
  },
  {
   "cell_type": "code",
   "execution_count": 72,
   "metadata": {},
   "outputs": [
    {
     "name": "stdout",
     "output_type": "stream",
     "text": [
      "7441\n"
     ]
    }
   ],
   "source": [
    "from sklearn.preprocessing import StandardScaler\n",
    "scaler = StandardScaler()\n",
    "for row in df['golddiff']:\n",
    "    scaler.partial_fit(np.asanyarray(row).reshape(-1, 1))\n",
    "\n",
    "golddiff = [scaler.transform(np.asanyarray(row).reshape(-1, 1)).reshape(-1) for row in df['golddiff']]\n",
    "print(len(golddiff))"
   ]
  },
  {
   "cell_type": "markdown",
   "metadata": {},
   "source": [
    "Split the dataset into Train:Held-Out:Test = 6:2:2."
   ]
  },
  {
   "cell_type": "code",
   "execution_count": 73,
   "metadata": {},
   "outputs": [],
   "source": [
    "dataset = LOLDataset(golddiff, df[\"bResult\"])\n",
    "test_size = valid_size = int(0.2 * len(dataset))\n",
    "train_size = len(dataset)- test_size - valid_size\n",
    "\n",
    "trainDataset, validDataset, testDataset = random_split(\n",
    "    dataset = dataset,\n",
    "    lengths = [train_size, valid_size, test_size],\n",
    "    generator = torch.Generator().manual_seed(SEED)\n",
    ")\n",
    "\n",
    "trainLoader = DataLoader(trainDataset, batch_size = BATCH_SIZE, shuffle=True)\n",
    "validLoader = DataLoader(validDataset, batch_size = BATCH_SIZE)\n",
    "testLoader = DataLoader(testDataset, batch_size = BATCH_SIZE)"
   ]
  },
  {
   "cell_type": "markdown",
   "metadata": {},
   "source": [
    "## RNN Network"
   ]
  },
  {
   "cell_type": "code",
   "execution_count": 74,
   "metadata": {},
   "outputs": [],
   "source": [
    "class RNN(nn.Module):\n",
    "    def __init__(self):\n",
    "        super(RNN,self).__init__()\n",
    "\n",
    "        self.rnn=nn.LSTM(\n",
    "            input_size = 1,\n",
    "            hidden_size = 256,\n",
    "            num_layers = 1,\n",
    "            batch_first = True\n",
    "        )\n",
    "\n",
    "        self.out = nn.Linear(256, 2)\n",
    "    \n",
    "    def forward(self,x):\n",
    "        r_out,(h_n, h_c)=self.rnn(x,None)\n",
    "        out = self.out(r_out[:, -1, :])\n",
    "        return out"
   ]
  },
  {
   "cell_type": "code",
   "execution_count": 75,
   "metadata": {},
   "outputs": [
    {
     "name": "stdout",
     "output_type": "stream",
     "text": [
      "RNN(\n",
      "  (rnn): LSTM(1, 256, batch_first=True)\n",
      "  (out): Linear(in_features=256, out_features=2, bias=True)\n",
      ")\n"
     ]
    }
   ],
   "source": [
    "model=RNN()\n",
    "print(model)"
   ]
  },
  {
   "cell_type": "markdown",
   "metadata": {},
   "source": [
    "## Train"
   ]
  },
  {
   "cell_type": "code",
   "execution_count": 76,
   "metadata": {},
   "outputs": [],
   "source": [
    "def train(dataloader, model, loss_fn, optimizer, mute = False):\n",
    "    size = len(dataloader.dataset)\n",
    "    for batch, (x, y) in enumerate(dataloader):\n",
    "        x, y = Variable(x), Variable(y)\n",
    "\n",
    "        predict = model(x)\n",
    "        loss = loss_fn(predict, y)\n",
    "        \n",
    "        optimizer.zero_grad()\n",
    "        loss.backward()\n",
    "        optimizer.step()\n",
    "\n",
    "        if batch % 20 == 0 and not mute:\n",
    "            loss, current = loss.item(), batch * len(x)\n",
    "            print(f\"loss: {loss:>7f}  [{current:>5d}/{size:>5d}]\")"
   ]
  },
  {
   "cell_type": "code",
   "execution_count": 77,
   "metadata": {},
   "outputs": [],
   "source": [
    "def test(dataloader, model, loss_fn, validation = False):\n",
    "    model.eval()\n",
    "    size = len(dataloader.dataset)\n",
    "\n",
    "    correct = 0\n",
    "    test_loss = 0\n",
    "    with torch.no_grad():\n",
    "        for step,(x,y) in enumerate(dataloader):\n",
    "            x, y = Variable(x), Variable(y)\n",
    "            predict = model(x)\n",
    "            # print(predict)\n",
    "            test_loss += loss_fn(predict, y).item()\n",
    "            correct += (predict.argmax(1) == y).sum().item()\n",
    "    \n",
    "    print(f\"{'Valid' if validation else 'Test'} Acc:{correct/size:>7f}, Avg Loss: {test_loss/size:>7f}\")"
   ]
  },
  {
   "cell_type": "code",
   "execution_count": 78,
   "metadata": {},
   "outputs": [
    {
     "name": "stdout",
     "output_type": "stream",
     "text": [
      "--------- Epoch #1 ---------\n",
      "loss: 0.697994  [    0/ 4465]\n",
      "loss: 0.683539  [  640/ 4465]\n",
      "loss: 0.633093  [ 1280/ 4465]\n",
      "loss: 0.616405  [ 1920/ 4465]\n",
      "loss: 0.525897  [ 2560/ 4465]\n",
      "loss: 0.548676  [ 3200/ 4465]\n",
      "loss: 0.415143  [ 3840/ 4465]\n",
      "Valid Acc:0.779570, Avg Loss: 0.014951\n",
      "--------- Epoch #2 ---------\n",
      "loss: 0.476431  [    0/ 4465]\n",
      "loss: 0.388176  [  640/ 4465]\n",
      "loss: 0.485182  [ 1280/ 4465]\n",
      "loss: 0.411127  [ 1920/ 4465]\n",
      "loss: 0.569806  [ 2560/ 4465]\n",
      "loss: 0.373454  [ 3200/ 4465]\n",
      "loss: 0.416749  [ 3840/ 4465]\n",
      "Valid Acc:0.790995, Avg Loss: 0.014457\n",
      "--------- Epoch #3 ---------\n",
      "loss: 0.538329  [    0/ 4465]\n",
      "loss: 0.366780  [  640/ 4465]\n",
      "loss: 0.520722  [ 1280/ 4465]\n",
      "loss: 0.234547  [ 1920/ 4465]\n",
      "loss: 0.453516  [ 2560/ 4465]\n",
      "loss: 0.447825  [ 3200/ 4465]\n",
      "loss: 0.476672  [ 3840/ 4465]\n",
      "Valid Acc:0.793011, Avg Loss: 0.013948\n",
      "--------- Epoch #4 ---------\n",
      "loss: 0.528693  [    0/ 4465]\n",
      "loss: 0.313131  [  640/ 4465]\n",
      "loss: 0.347993  [ 1280/ 4465]\n",
      "loss: 0.545416  [ 1920/ 4465]\n",
      "loss: 0.370844  [ 2560/ 4465]\n",
      "loss: 0.335215  [ 3200/ 4465]\n",
      "loss: 0.489378  [ 3840/ 4465]\n",
      "Valid Acc:0.809812, Avg Loss: 0.013348\n",
      "--------- Epoch #5 ---------\n",
      "loss: 0.475507  [    0/ 4465]\n",
      "loss: 0.350138  [  640/ 4465]\n",
      "loss: 0.383919  [ 1280/ 4465]\n",
      "loss: 0.539307  [ 1920/ 4465]\n",
      "loss: 0.382686  [ 2560/ 4465]\n",
      "loss: 0.548602  [ 3200/ 4465]\n",
      "loss: 0.477665  [ 3840/ 4465]\n",
      "Valid Acc:0.803763, Avg Loss: 0.013037\n",
      "--------- Epoch #6 ---------\n",
      "loss: 0.495674  [    0/ 4465]\n",
      "loss: 0.343523  [  640/ 4465]\n",
      "loss: 0.342237  [ 1280/ 4465]\n",
      "loss: 0.349852  [ 1920/ 4465]\n",
      "loss: 0.454829  [ 2560/ 4465]\n",
      "loss: 0.373680  [ 3200/ 4465]\n",
      "loss: 0.491512  [ 3840/ 4465]\n",
      "Valid Acc:0.804435, Avg Loss: 0.012947\n",
      "--------- Epoch #7 ---------\n",
      "loss: 0.551468  [    0/ 4465]\n",
      "loss: 0.377363  [  640/ 4465]\n",
      "loss: 0.515089  [ 1280/ 4465]\n",
      "loss: 0.403794  [ 1920/ 4465]\n",
      "loss: 0.320251  [ 2560/ 4465]\n",
      "loss: 0.378480  [ 3200/ 4465]\n",
      "loss: 0.406866  [ 3840/ 4465]\n",
      "Valid Acc:0.809140, Avg Loss: 0.012887\n",
      "--------- Epoch #8 ---------\n",
      "loss: 0.527925  [    0/ 4465]\n",
      "loss: 0.293467  [  640/ 4465]\n",
      "loss: 0.485549  [ 1280/ 4465]\n",
      "loss: 0.487481  [ 1920/ 4465]\n",
      "loss: 0.498538  [ 2560/ 4465]\n",
      "loss: 0.442414  [ 3200/ 4465]\n",
      "loss: 0.454840  [ 3840/ 4465]\n",
      "Valid Acc:0.809140, Avg Loss: 0.013419\n",
      "--------- Epoch #9 ---------\n",
      "loss: 0.275209  [    0/ 4465]\n",
      "loss: 0.392172  [  640/ 4465]\n",
      "loss: 0.409856  [ 1280/ 4465]\n",
      "loss: 0.448906  [ 1920/ 4465]\n",
      "loss: 0.394658  [ 2560/ 4465]\n",
      "loss: 0.287704  [ 3200/ 4465]\n",
      "loss: 0.454327  [ 3840/ 4465]\n",
      "Valid Acc:0.819220, Avg Loss: 0.012932\n",
      "--------- Epoch #10 ---------\n",
      "loss: 0.364410  [    0/ 4465]\n",
      "loss: 0.305280  [  640/ 4465]\n",
      "loss: 0.365712  [ 1280/ 4465]\n",
      "loss: 0.417133  [ 1920/ 4465]\n",
      "loss: 0.527708  [ 2560/ 4465]\n",
      "loss: 0.425207  [ 3200/ 4465]\n",
      "loss: 0.422539  [ 3840/ 4465]\n",
      "Valid Acc:0.815860, Avg Loss: 0.012847\n",
      "--------- Epoch #11 ---------\n",
      "loss: 0.664835  [    0/ 4465]\n",
      "loss: 0.455318  [  640/ 4465]\n",
      "loss: 0.526622  [ 1280/ 4465]\n",
      "loss: 0.335247  [ 1920/ 4465]\n",
      "loss: 0.407091  [ 2560/ 4465]\n",
      "loss: 0.397438  [ 3200/ 4465]\n",
      "loss: 0.319999  [ 3840/ 4465]\n",
      "Valid Acc:0.818548, Avg Loss: 0.012762\n",
      "--------- Epoch #12 ---------\n",
      "loss: 0.404243  [    0/ 4465]\n",
      "loss: 0.540758  [  640/ 4465]\n",
      "loss: 0.570118  [ 1280/ 4465]\n",
      "loss: 0.508137  [ 1920/ 4465]\n",
      "loss: 0.519826  [ 2560/ 4465]\n",
      "loss: 0.336680  [ 3200/ 4465]\n",
      "loss: 0.553259  [ 3840/ 4465]\n",
      "Valid Acc:0.819220, Avg Loss: 0.012672\n",
      "--------- Epoch #13 ---------\n",
      "loss: 0.363770  [    0/ 4465]\n",
      "loss: 0.403856  [  640/ 4465]\n",
      "loss: 0.282575  [ 1280/ 4465]\n",
      "loss: 0.579068  [ 1920/ 4465]\n",
      "loss: 0.487491  [ 2560/ 4465]\n",
      "loss: 0.431193  [ 3200/ 4465]\n",
      "loss: 0.275410  [ 3840/ 4465]\n",
      "Valid Acc:0.819892, Avg Loss: 0.012653\n",
      "--------- Epoch #14 ---------\n",
      "loss: 0.432834  [    0/ 4465]\n",
      "loss: 0.421598  [  640/ 4465]\n",
      "loss: 0.350694  [ 1280/ 4465]\n",
      "loss: 0.619003  [ 1920/ 4465]\n",
      "loss: 0.463169  [ 2560/ 4465]\n",
      "loss: 0.502761  [ 3200/ 4465]\n",
      "loss: 0.310341  [ 3840/ 4465]\n",
      "Valid Acc:0.823925, Avg Loss: 0.012635\n",
      "--------- Epoch #15 ---------\n",
      "loss: 0.363765  [    0/ 4465]\n",
      "loss: 0.377586  [  640/ 4465]\n",
      "loss: 0.514601  [ 1280/ 4465]\n",
      "loss: 0.376712  [ 1920/ 4465]\n",
      "loss: 0.298473  [ 2560/ 4465]\n",
      "loss: 0.408963  [ 3200/ 4465]\n",
      "loss: 0.627252  [ 3840/ 4465]\n",
      "Valid Acc:0.822581, Avg Loss: 0.012563\n",
      "--------- Epoch #16 ---------\n",
      "loss: 0.389483  [    0/ 4465]\n",
      "loss: 0.591515  [  640/ 4465]\n",
      "loss: 0.381606  [ 1280/ 4465]\n",
      "loss: 0.477340  [ 1920/ 4465]\n",
      "loss: 0.404947  [ 2560/ 4465]\n",
      "loss: 0.443982  [ 3200/ 4465]\n",
      "loss: 0.432926  [ 3840/ 4465]\n",
      "Valid Acc:0.819892, Avg Loss: 0.012537\n",
      "--------- Epoch #17 ---------\n",
      "loss: 0.358574  [    0/ 4465]\n",
      "loss: 0.442726  [  640/ 4465]\n",
      "loss: 0.503824  [ 1280/ 4465]\n",
      "loss: 0.461876  [ 1920/ 4465]\n",
      "loss: 0.377432  [ 2560/ 4465]\n",
      "loss: 0.365030  [ 3200/ 4465]\n",
      "loss: 0.299210  [ 3840/ 4465]\n",
      "Valid Acc:0.825941, Avg Loss: 0.012622\n",
      "--------- Epoch #18 ---------\n",
      "loss: 0.420592  [    0/ 4465]\n",
      "loss: 0.565762  [  640/ 4465]\n",
      "loss: 0.442350  [ 1280/ 4465]\n",
      "loss: 0.368577  [ 1920/ 4465]\n",
      "loss: 0.467133  [ 2560/ 4465]\n",
      "loss: 0.500559  [ 3200/ 4465]\n",
      "loss: 0.484587  [ 3840/ 4465]\n",
      "Valid Acc:0.821237, Avg Loss: 0.012490\n",
      "--------- Epoch #19 ---------\n",
      "loss: 0.413944  [    0/ 4465]\n",
      "loss: 0.558880  [  640/ 4465]\n",
      "loss: 0.458443  [ 1280/ 4465]\n",
      "loss: 0.356963  [ 1920/ 4465]\n",
      "loss: 0.369632  [ 2560/ 4465]\n",
      "loss: 0.400758  [ 3200/ 4465]\n",
      "loss: 0.490610  [ 3840/ 4465]\n",
      "Valid Acc:0.828629, Avg Loss: 0.012546\n",
      "--------- Epoch #20 ---------\n",
      "loss: 0.431753  [    0/ 4465]\n",
      "loss: 0.343192  [  640/ 4465]\n",
      "loss: 0.386333  [ 1280/ 4465]\n",
      "loss: 0.365520  [ 1920/ 4465]\n",
      "loss: 0.384149  [ 2560/ 4465]\n",
      "loss: 0.384960  [ 3200/ 4465]\n",
      "loss: 0.613000  [ 3840/ 4465]\n",
      "Valid Acc:0.826613, Avg Loss: 0.012516\n"
     ]
    }
   ],
   "source": [
    "MUTE = False\n",
    "EPOCH = 20\n",
    "LR = 0.0001\n",
    "\n",
    "torch.manual_seed(SEED)\n",
    "np.random.seed(SEED)\n",
    "\n",
    "optimizer = torch.optim.Adam(model.parameters(), lr = LR)\n",
    "loss_func = nn.CrossEntropyLoss()\n",
    "\n",
    "for epoch in range(1, EPOCH + 1):\n",
    "    print(f\"--------- Epoch #{epoch} ---------\")\n",
    "    train(trainLoader, model, loss_func, optimizer, mute = MUTE)\n",
    "    test(validLoader, model, loss_func, validation = True)\n",
    "    # test(testLoader, model, loss_func)\n"
   ]
  },
  {
   "cell_type": "markdown",
   "metadata": {},
   "source": [
    "## Test"
   ]
  },
  {
   "cell_type": "code",
   "execution_count": 79,
   "metadata": {},
   "outputs": [
    {
     "name": "stdout",
     "output_type": "stream",
     "text": [
      "Test Acc:0.795027, Avg Loss: 0.013477\n"
     ]
    }
   ],
   "source": [
    "test(testLoader, model, loss_func)"
   ]
  }
 ],
 "metadata": {
  "interpreter": {
   "hash": "61a57a4b5406d2de388e2f91097d4e4bcd7d5f4a46f53a795aa28a02eed27fc5"
  },
  "kernelspec": {
   "display_name": "Python 3.8.8 64-bit ('base': conda)",
   "language": "python",
   "name": "python3"
  },
  "language_info": {
   "codemirror_mode": {
    "name": "ipython",
    "version": 3
   },
   "file_extension": ".py",
   "mimetype": "text/x-python",
   "name": "python",
   "nbconvert_exporter": "python",
   "pygments_lexer": "ipython3",
   "version": "3.9.7"
  },
  "orig_nbformat": 4
 },
 "nbformat": 4,
 "nbformat_minor": 2
}
