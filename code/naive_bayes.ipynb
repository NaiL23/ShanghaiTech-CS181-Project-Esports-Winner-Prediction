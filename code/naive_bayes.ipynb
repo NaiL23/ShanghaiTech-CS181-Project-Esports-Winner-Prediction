{
 "cells": [
  {
   "cell_type": "markdown",
   "metadata": {},
   "source": [
    "# Predict Winner from Champion Lineup using Naive Bayes"
   ]
  },
  {
   "cell_type": "code",
   "execution_count": 279,
   "metadata": {},
   "outputs": [],
   "source": [
    "# import libraries\n",
    "import pandas as pd\n",
    "import numpy as np\n",
    "from sklearn.preprocessing import LabelEncoder, OneHotEncoder\n",
    "from sklearn.model_selection import train_test_split, GridSearchCV\n",
    "from sklearn.metrics import classification_report\n",
    "import warnings\n",
    "warnings.filterwarnings('ignore')"
   ]
  },
  {
   "cell_type": "markdown",
   "metadata": {},
   "source": [
    "## Dataset\n",
    "\n",
    "Source: https://oracleselixir.com/tools/downloads"
   ]
  },
  {
   "cell_type": "code",
   "execution_count": 280,
   "metadata": {},
   "outputs": [
    {
     "name": "stdout",
     "output_type": "stream",
     "text": [
      "# of matches: 7296\n"
     ]
    }
   ],
   "source": [
    "df = pd.read_csv('../data/2021_LoL_esports_match_data.csv', sep=',')\n",
    "df_complete = df[df['datacompleteness'] == 'complete']\n",
    "df_complete.reset_index(drop = True, inplace = True)\n",
    "df = df_complete[df_complete['position'] == 'team']\n",
    "df = df[df['side'] == 'Blue']\n",
    "df.reset_index(drop = True, inplace = True)\n",
    "print(f'# of matches: {len(df)}')"
   ]
  },
  {
   "cell_type": "markdown",
   "metadata": {},
   "source": [
    "## Dataset preprocessing\n",
    "\n",
    "Add winner column for each match by merging two original columns:"
   ]
  },
  {
   "cell_type": "code",
   "execution_count": 281,
   "metadata": {},
   "outputs": [
    {
     "data": {
      "text/html": [
       "<div>\n",
       "<style scoped>\n",
       "    .dataframe tbody tr th:only-of-type {\n",
       "        vertical-align: middle;\n",
       "    }\n",
       "\n",
       "    .dataframe tbody tr th {\n",
       "        vertical-align: top;\n",
       "    }\n",
       "\n",
       "    .dataframe thead th {\n",
       "        text-align: right;\n",
       "    }\n",
       "</style>\n",
       "<table border=\"1\" class=\"dataframe\">\n",
       "  <thead>\n",
       "    <tr style=\"text-align: right;\">\n",
       "      <th></th>\n",
       "      <th>winner</th>\n",
       "      <th>result</th>\n",
       "    </tr>\n",
       "  </thead>\n",
       "  <tbody>\n",
       "    <tr>\n",
       "      <th>0</th>\n",
       "      <td>blue</td>\n",
       "      <td>1</td>\n",
       "    </tr>\n",
       "    <tr>\n",
       "      <th>1</th>\n",
       "      <td>red</td>\n",
       "      <td>0</td>\n",
       "    </tr>\n",
       "    <tr>\n",
       "      <th>2</th>\n",
       "      <td>red</td>\n",
       "      <td>0</td>\n",
       "    </tr>\n",
       "    <tr>\n",
       "      <th>3</th>\n",
       "      <td>red</td>\n",
       "      <td>0</td>\n",
       "    </tr>\n",
       "    <tr>\n",
       "      <th>4</th>\n",
       "      <td>red</td>\n",
       "      <td>0</td>\n",
       "    </tr>\n",
       "  </tbody>\n",
       "</table>\n",
       "</div>"
      ],
      "text/plain": [
       "  winner  result\n",
       "0   blue       1\n",
       "1    red       0\n",
       "2    red       0\n",
       "3    red       0\n",
       "4    red       0"
      ]
     },
     "execution_count": 281,
     "metadata": {},
     "output_type": "execute_result"
    }
   ],
   "source": [
    "df['winner'] = np.where(df['result']==1, 'blue', 'red')\n",
    "df[['winner', 'result']].head()"
   ]
  },
  {
   "cell_type": "markdown",
   "metadata": {},
   "source": [
    "Get champion lineup stats:"
   ]
  },
  {
   "cell_type": "code",
   "execution_count": 282,
   "metadata": {},
   "outputs": [
    {
     "data": {
      "text/html": [
       "<div>\n",
       "<style scoped>\n",
       "    .dataframe tbody tr th:only-of-type {\n",
       "        vertical-align: middle;\n",
       "    }\n",
       "\n",
       "    .dataframe tbody tr th {\n",
       "        vertical-align: top;\n",
       "    }\n",
       "\n",
       "    .dataframe thead th {\n",
       "        text-align: right;\n",
       "    }\n",
       "</style>\n",
       "<table border=\"1\" class=\"dataframe\">\n",
       "  <thead>\n",
       "    <tr style=\"text-align: right;\">\n",
       "      <th></th>\n",
       "      <th>blueTopChamp</th>\n",
       "      <th>blueJungleChamp</th>\n",
       "      <th>blueMiddleChamp</th>\n",
       "      <th>blueADCChamp</th>\n",
       "      <th>blueSupportChamp</th>\n",
       "      <th>redTopChamp</th>\n",
       "      <th>redJungleChamp</th>\n",
       "      <th>redMiddleChamp</th>\n",
       "      <th>redADCChamp</th>\n",
       "      <th>redSupportChamp</th>\n",
       "      <th>winner</th>\n",
       "    </tr>\n",
       "  </thead>\n",
       "  <tbody>\n",
       "    <tr>\n",
       "      <th>0</th>\n",
       "      <td>Mordekaiser</td>\n",
       "      <td>Graves</td>\n",
       "      <td>Zoe</td>\n",
       "      <td>Miss Fortune</td>\n",
       "      <td>Galio</td>\n",
       "      <td>Ornn</td>\n",
       "      <td>Kindred</td>\n",
       "      <td>Orianna</td>\n",
       "      <td>Ezreal</td>\n",
       "      <td>Leona</td>\n",
       "      <td>blue</td>\n",
       "    </tr>\n",
       "    <tr>\n",
       "      <th>1</th>\n",
       "      <td>Gragas</td>\n",
       "      <td>Graves</td>\n",
       "      <td>Rumble</td>\n",
       "      <td>Kai'Sa</td>\n",
       "      <td>Alistar</td>\n",
       "      <td>Ornn</td>\n",
       "      <td>Olaf</td>\n",
       "      <td>Syndra</td>\n",
       "      <td>Miss Fortune</td>\n",
       "      <td>Galio</td>\n",
       "      <td>red</td>\n",
       "    </tr>\n",
       "    <tr>\n",
       "      <th>2</th>\n",
       "      <td>Gragas</td>\n",
       "      <td>Graves</td>\n",
       "      <td>Zoe</td>\n",
       "      <td>Yasuo</td>\n",
       "      <td>Alistar</td>\n",
       "      <td>Rumble</td>\n",
       "      <td>Nidalee</td>\n",
       "      <td>Yone</td>\n",
       "      <td>Miss Fortune</td>\n",
       "      <td>Galio</td>\n",
       "      <td>red</td>\n",
       "    </tr>\n",
       "    <tr>\n",
       "      <th>3</th>\n",
       "      <td>Karma</td>\n",
       "      <td>Pantheon</td>\n",
       "      <td>Syndra</td>\n",
       "      <td>Samira</td>\n",
       "      <td>Leona</td>\n",
       "      <td>Aatrox</td>\n",
       "      <td>Nidalee</td>\n",
       "      <td>Viktor</td>\n",
       "      <td>Kai'Sa</td>\n",
       "      <td>Galio</td>\n",
       "      <td>red</td>\n",
       "    </tr>\n",
       "    <tr>\n",
       "      <th>4</th>\n",
       "      <td>Jax</td>\n",
       "      <td>Hecarim</td>\n",
       "      <td>Orianna</td>\n",
       "      <td>Samira</td>\n",
       "      <td>Alistar</td>\n",
       "      <td>Camille</td>\n",
       "      <td>Lillia</td>\n",
       "      <td>Viktor</td>\n",
       "      <td>Kai'Sa</td>\n",
       "      <td>Maokai</td>\n",
       "      <td>red</td>\n",
       "    </tr>\n",
       "  </tbody>\n",
       "</table>\n",
       "</div>"
      ],
      "text/plain": [
       "  blueTopChamp blueJungleChamp blueMiddleChamp  blueADCChamp blueSupportChamp  \\\n",
       "0  Mordekaiser          Graves             Zoe  Miss Fortune            Galio   \n",
       "1       Gragas          Graves          Rumble        Kai'Sa          Alistar   \n",
       "2       Gragas          Graves             Zoe         Yasuo          Alistar   \n",
       "3        Karma        Pantheon          Syndra        Samira            Leona   \n",
       "4          Jax         Hecarim         Orianna        Samira          Alistar   \n",
       "\n",
       "  redTopChamp redJungleChamp redMiddleChamp   redADCChamp redSupportChamp  \\\n",
       "0        Ornn        Kindred        Orianna        Ezreal           Leona   \n",
       "1        Ornn           Olaf         Syndra  Miss Fortune           Galio   \n",
       "2      Rumble        Nidalee           Yone  Miss Fortune           Galio   \n",
       "3      Aatrox        Nidalee         Viktor        Kai'Sa           Galio   \n",
       "4     Camille         Lillia         Viktor        Kai'Sa          Maokai   \n",
       "\n",
       "  winner  \n",
       "0   blue  \n",
       "1    red  \n",
       "2    red  \n",
       "3    red  \n",
       "4    red  "
      ]
     },
     "execution_count": 282,
     "metadata": {},
     "output_type": "execute_result"
    }
   ],
   "source": [
    "champion_columns = [\n",
    "       'blueTopChamp', 'blueJungleChamp', 'blueMiddleChamp', 'blueADCChamp', 'blueSupportChamp',\n",
    "       'redTopChamp', 'redJungleChamp', 'redMiddleChamp', 'redADCChamp','redSupportChamp'\n",
    "]\n",
    "\n",
    "for champion in champion_columns:\n",
    "    df[champion] = np.NAN\n",
    "\n",
    "champion_map_blue = {'top':'blueTopChamp', 'jng':'blueJungleChamp', 'mid':'blueMiddleChamp', 'bot':'blueADCChamp', 'sup':'blueSupportChamp'}\n",
    "champion_map_red = {'top':'redTopChamp', 'jng':'redJungleChamp', 'mid':'redMiddleChamp', 'bot':'redADCChamp', 'sup':'redSupportChamp'}\n",
    "\n",
    "for i in range(len(df)) :\n",
    "    for j in range(5) :\n",
    "        position = df_complete['position'][i * 12 + j]\n",
    "        df[champion_map_blue[position]][i] = df_complete['champion'][i * 12 + j]\n",
    "        position = df_complete['position'][i * 12 + 5 + j ]\n",
    "        df[champion_map_red[position]][i] = df_complete['champion'][i * 12 + 5 + j]\n",
    "\n",
    "columns =  champion_columns + ['winner']\n",
    "df = df[columns]\n",
    "\n",
    "df.head()"
   ]
  },
  {
   "cell_type": "markdown",
   "metadata": {},
   "source": [
    "Encode champion labels:"
   ]
  },
  {
   "cell_type": "code",
   "execution_count": 283,
   "metadata": {},
   "outputs": [
    {
     "name": "stdout",
     "output_type": "stream",
     "text": [
      "155 champions: ['Viktor' 'Amumu' 'Garen' 'Aatrox' 'Swain' 'Caitlyn' 'Jinx' 'Gwen' 'Sylas'\n",
      " 'Malzahar' 'Teemo' 'Fiddlesticks' 'Corki' 'Twisted Fate' 'Gnar' 'Sion'\n",
      " 'Neeko' 'Zilean' 'Samira' 'Lissandra' 'Shen' 'Bard' 'Rumble' 'Urgot'\n",
      " 'Yuumi' 'Seraphine' 'Ivern' 'Veigar' 'Miss Fortune' 'Sett' 'Karthus'\n",
      " \"Vel'Koz\" 'Braum' 'Aphelios' 'Ornn' 'Lulu' 'Fiora' 'Irelia' 'Draven'\n",
      " 'Lee Sin' 'Ekko' 'Fizz' \"Kog'Maw\" 'Zed' 'Kassadin' 'Rengar' 'Maokai'\n",
      " 'Sivir' 'Evelynn' 'Singed' \"Kha'Zix\" 'Qiyana' 'Annie' 'Nocturne' 'Brand'\n",
      " 'Renekton' 'Xayah' 'Rakan' 'Ahri' 'Quinn' 'Shaco' 'Vayne' 'Olaf' 'Ryze'\n",
      " 'Shyvana' 'Katarina' 'Vladimir' 'Kayle' \"Kai'Sa\" 'Dr. Mundo'\n",
      " 'Aurelion Sol' 'Zoe' 'Senna' 'Blitzcrank' 'Rell' 'Warwick' 'Pantheon'\n",
      " 'Rammus' 'Nami' 'Thresh' 'Mordekaiser' 'Kled' 'Nunu & Willump' 'Talon'\n",
      " 'Graves' 'Tristana' 'Varus' 'Gragas' 'Malphite' 'Lillia' 'Leona' 'Lux'\n",
      " 'Vex' 'Xin Zhao' 'Akali' 'Darius' \"Cho'Gath\" 'Sejuani' 'Cassiopeia'\n",
      " 'Skarner' 'Taric' 'Anivia' 'Kennen' 'Elise' 'Riven' 'Yasuo'\n",
      " 'Heimerdinger' 'Orianna' 'Wukong' 'Pyke' 'Soraka' 'Morgana' 'Vi' 'Illaoi'\n",
      " 'Ashe' 'Diana' 'Hecarim' 'Jhin' 'Nasus' 'Jax' \"Rek'Sai\" 'Xerath'\n",
      " 'Volibear' 'Trundle' 'Nautilus' 'Poppy' 'Lucian' 'Kayn' 'Zyra' 'Alistar'\n",
      " 'Viego' 'Gangplank' 'Syndra' 'Azir' 'Galio' 'Yone' 'Ezreal' 'Camille'\n",
      " 'Jarvan IV' 'Janna' 'Karma' 'Twitch' 'Udyr' 'Yorick' 'Tryndamere'\n",
      " 'Akshan' 'Kindred' 'Tahm Kench' 'Kalista' 'Taliyah' 'Zac' 'LeBlanc'\n",
      " 'Jayce' 'Ziggs' 'Nidalee']\n"
     ]
    },
    {
     "data": {
      "text/html": [
       "<div>\n",
       "<style scoped>\n",
       "    .dataframe tbody tr th:only-of-type {\n",
       "        vertical-align: middle;\n",
       "    }\n",
       "\n",
       "    .dataframe tbody tr th {\n",
       "        vertical-align: top;\n",
       "    }\n",
       "\n",
       "    .dataframe thead th {\n",
       "        text-align: right;\n",
       "    }\n",
       "</style>\n",
       "<table border=\"1\" class=\"dataframe\">\n",
       "  <thead>\n",
       "    <tr style=\"text-align: right;\">\n",
       "      <th></th>\n",
       "      <th>blueTopChamp</th>\n",
       "      <th>blueJungleChamp</th>\n",
       "      <th>blueMiddleChamp</th>\n",
       "      <th>blueADCChamp</th>\n",
       "      <th>blueSupportChamp</th>\n",
       "      <th>redTopChamp</th>\n",
       "      <th>redJungleChamp</th>\n",
       "      <th>redMiddleChamp</th>\n",
       "      <th>redADCChamp</th>\n",
       "      <th>redSupportChamp</th>\n",
       "      <th>winner</th>\n",
       "    </tr>\n",
       "  </thead>\n",
       "  <tbody>\n",
       "    <tr>\n",
       "      <th>0</th>\n",
       "      <td>75</td>\n",
       "      <td>37</td>\n",
       "      <td>153</td>\n",
       "      <td>74</td>\n",
       "      <td>32</td>\n",
       "      <td>86</td>\n",
       "      <td>60</td>\n",
       "      <td>85</td>\n",
       "      <td>28</td>\n",
       "      <td>65</td>\n",
       "      <td>blue</td>\n",
       "    </tr>\n",
       "    <tr>\n",
       "      <th>1</th>\n",
       "      <td>36</td>\n",
       "      <td>37</td>\n",
       "      <td>99</td>\n",
       "      <td>50</td>\n",
       "      <td>4</td>\n",
       "      <td>86</td>\n",
       "      <td>84</td>\n",
       "      <td>116</td>\n",
       "      <td>74</td>\n",
       "      <td>32</td>\n",
       "      <td>red</td>\n",
       "    </tr>\n",
       "    <tr>\n",
       "      <th>2</th>\n",
       "      <td>36</td>\n",
       "      <td>37</td>\n",
       "      <td>153</td>\n",
       "      <td>145</td>\n",
       "      <td>4</td>\n",
       "      <td>99</td>\n",
       "      <td>81</td>\n",
       "      <td>146</td>\n",
       "      <td>74</td>\n",
       "      <td>32</td>\n",
       "      <td>red</td>\n",
       "    </tr>\n",
       "    <tr>\n",
       "      <th>3</th>\n",
       "      <td>52</td>\n",
       "      <td>87</td>\n",
       "      <td>116</td>\n",
       "      <td>101</td>\n",
       "      <td>65</td>\n",
       "      <td>0</td>\n",
       "      <td>81</td>\n",
       "      <td>137</td>\n",
       "      <td>50</td>\n",
       "      <td>32</td>\n",
       "      <td>red</td>\n",
       "    </tr>\n",
       "    <tr>\n",
       "      <th>4</th>\n",
       "      <td>46</td>\n",
       "      <td>39</td>\n",
       "      <td>85</td>\n",
       "      <td>101</td>\n",
       "      <td>4</td>\n",
       "      <td>17</td>\n",
       "      <td>66</td>\n",
       "      <td>137</td>\n",
       "      <td>50</td>\n",
       "      <td>73</td>\n",
       "      <td>red</td>\n",
       "    </tr>\n",
       "  </tbody>\n",
       "</table>\n",
       "</div>"
      ],
      "text/plain": [
       "   blueTopChamp  blueJungleChamp  blueMiddleChamp  blueADCChamp  \\\n",
       "0            75               37              153            74   \n",
       "1            36               37               99            50   \n",
       "2            36               37              153           145   \n",
       "3            52               87              116           101   \n",
       "4            46               39               85           101   \n",
       "\n",
       "   blueSupportChamp  redTopChamp  redJungleChamp  redMiddleChamp  redADCChamp  \\\n",
       "0                32           86              60              85           28   \n",
       "1                 4           86              84             116           74   \n",
       "2                 4           99              81             146           74   \n",
       "3                65            0              81             137           50   \n",
       "4                 4           17              66             137           50   \n",
       "\n",
       "   redSupportChamp winner  \n",
       "0               65   blue  \n",
       "1               32    red  \n",
       "2               32    red  \n",
       "3               32    red  \n",
       "4               73    red  "
      ]
     },
     "execution_count": 283,
     "metadata": {},
     "output_type": "execute_result"
    }
   ],
   "source": [
    "champion_label_encoder = LabelEncoder()\n",
    "champions = set()\n",
    "for champ in champion_columns :\n",
    "    champions |= set(pd.unique(df[champ]))\n",
    "champions = np.array(list(champions))\n",
    "print(f'{len(champions)} champions: {champions}')\n",
    "\n",
    "champion_label_encoder.fit(champions)\n",
    "for champ in champion_columns :\n",
    "    df[champ] = champion_label_encoder.transform(df[champ])\n",
    "\n",
    "df.head()"
   ]
  },
  {
   "cell_type": "markdown",
   "metadata": {},
   "source": [
    "Finally, we get our data for training."
   ]
  },
  {
   "cell_type": "code",
   "execution_count": 284,
   "metadata": {},
   "outputs": [
    {
     "data": {
      "text/plain": [
       "((5836, 10), (1460, 10))"
      ]
     },
     "execution_count": 284,
     "metadata": {},
     "output_type": "execute_result"
    }
   ],
   "source": [
    "x = df.drop(['winner'], axis = 1)\n",
    "y = df['winner']\n",
    "\n",
    "x_train, x_test, y_train, y_test = train_test_split(x, y, test_size = 0.2, random_state = 0)\n",
    "\n",
    "x_train.shape, x_test.shape"
   ]
  },
  {
   "cell_type": "markdown",
   "metadata": {},
   "source": [
    "## Train & Test\n",
    "\n",
    "Train Naive Bayes model (with Laplace smoothing $k=3$ ) and test its accuracy.\n",
    "\n",
    "### Sklearn toolkit Naive Bayes\n",
    "\n",
    "Using `sklearn.naive_bayes.CategoricalNB` is equivalent to Naive Bayes taught in CS181 lecture."
   ]
  },
  {
   "cell_type": "code",
   "execution_count": 285,
   "metadata": {},
   "outputs": [
    {
     "name": "stdout",
     "output_type": "stream",
     "text": [
      "CategoricalNB(alpha=3, min_categories=155)\n",
      "Shape of NB parameters: (9, 2, 155)\n",
      "              precision    recall  f1-score   support\n",
      "\n",
      "        blue       0.57      0.70      0.62       804\n",
      "         red       0.48      0.34      0.40       656\n",
      "\n",
      "    accuracy                           0.54      1460\n",
      "   macro avg       0.52      0.52      0.51      1460\n",
      "weighted avg       0.53      0.54      0.52      1460\n",
      "\n"
     ]
    }
   ],
   "source": [
    "from sklearn.naive_bayes import CategoricalNB\n",
    "\n",
    "parameters = {'alpha': list(range(10))}\n",
    "model = CategoricalNB(min_categories = len(champions))\n",
    "model_NB_grid = GridSearchCV(model, param_grid = parameters)\n",
    "model_NB_grid.fit(x_train, y_train)\n",
    "\n",
    "model_NB = model_NB_grid.best_estimator_\n",
    "print(model_NB)\n",
    "print(f'Shape of NB parameters: {np.asarray(model_NB.coef_).shape}')\n",
    "\n",
    "y_pred = model_NB.predict(x_test)\n",
    "\n",
    "print(classification_report(y_test, y_pred))"
   ]
  },
  {
   "cell_type": "markdown",
   "metadata": {},
   "source": [
    "### Self-implementation Naive Bayes"
   ]
  },
  {
   "cell_type": "code",
   "execution_count": 286,
   "metadata": {},
   "outputs": [
    {
     "name": "stdout",
     "output_type": "stream",
     "text": [
      "accuracy = 53.973%\n"
     ]
    }
   ],
   "source": [
    "class NaiveBayes():\n",
    "\tdef __init__(self, x_train, y_train, k = 3):\n",
    "\t\tself.x_train = x_train\n",
    "\t\tself.y_train = y_train\n",
    "\t\tself.k = k\n",
    "\t\tself.counter = dict()\n",
    "\t\tself.sumWin = 0\n",
    "\t\tself.sumLoss = 0\n",
    "\t\tfor pos in x_train:\n",
    "\t\t\ttempDict = dict()\n",
    "\t\t\tfor i in range(len(x_train)):\n",
    "\t\t\t\tpick = x_train[pos][x_train.index[i]]\n",
    "\t\t\t\tif pick in tempDict:\n",
    "\t\t\t\t\ttempDict[pick][0] += 1\n",
    "\t\t\t\telse:\n",
    "\t\t\t\t\ttempDict[pick] = [1, 0]\n",
    "\t\t\t\tif y_train[y_train.index[i]] == \"blue\":\n",
    "\t\t\t\t\ttempDict[pick][1] += 1\n",
    "\t\t\t\t\tself.sumWin += 1\n",
    "\t\t\t\telse:\n",
    "\t\t\t\t\tself.sumLoss += 1\n",
    "\t\t\tself.counter[pos] = tempDict\n",
    "\t\n",
    "\tdef predWin(self, x_test):\n",
    "\t\tans = []\n",
    "\t\tfor i in range(len(x_test)):\n",
    "\t\t\tprobWin = 0.5\n",
    "\t\t\tprobLoss = 0.5\n",
    "\t\t\tfor pos in x_test:\n",
    "\t\t\t\tpick = x_test[pos][x_test.index[i]]\n",
    "\t\t\t\tif pick in self.counter[pos]:\n",
    "\t\t\t\t\tprobWin *= (self.counter[pos][pick][1] + self.k) / (self.sumWin + self.k * len(self.counter[pos]))\n",
    "\t\t\t\t\tprobLoss *= (self.counter[pos][pick][0] - self.counter[pos][pick][1] + self.k) / (self.sumLoss + self.k * len(self.counter[pos]))\n",
    "\t\t\tans.append(probWin / (probWin + probLoss))\n",
    "\t\treturn ans\n",
    "\n",
    "\tdef test(self, x_test, y_test):\n",
    "\t\tpredProb = self.predWin(x_test)\n",
    "\t\tcorret = 0\n",
    "\t\tfor i in range(len(x_test)):\n",
    "\t\t\ty_pred = \"blue\" if predProb[i]> 0.5 else \"red\"\n",
    "\t\t\tif y_pred == y_test[y_test.index[i]]:\n",
    "\t\t\t\tcorret += 1\n",
    "\t\treturn corret / len(y_test)\n",
    "\t\n",
    "model = NaiveBayes(x_train, y_train, k = 3)\n",
    "pred = model.predWin(x_test)\n",
    "print(f'accuracy = {model.test(x_test, y_test) * 100 :.3f}%')"
   ]
  },
  {
   "cell_type": "markdown",
   "metadata": {},
   "source": [
    "Test/predict single one match:"
   ]
  },
  {
   "cell_type": "code",
   "execution_count": 287,
   "metadata": {},
   "outputs": [
    {
     "name": "stdout",
     "output_type": "stream",
     "text": [
      "model predicted winner : red\n",
      "blue wins: 45.9% | red wins: 54.1%\n"
     ]
    }
   ],
   "source": [
    "''' S11 EDG vs DK, match 3, DK(red) wins '''\n",
    "# champion_lineup_blue = ['Jayce', 'Xin Zhao', 'Twisted Fate', 'Jhin', 'Leona'] \n",
    "# champion_lineup_red = ['Gragas', 'Lee Sin', 'Sylas', 'Aphelios', 'Braum']\n",
    "\n",
    "''' S11 EDG vs DK, match 4, EDG(blue) wins '''\n",
    "# champion_lineup_blue = ['Graves', 'Viego', 'Zoe', 'Lucian', 'Lulu'] \n",
    "# champion_lineup_red = ['Gwen', 'Talon', 'Orianna', 'Jhin', 'Nami']\n",
    "\n",
    "''' S11 DK vs EDG, match 5, EDG(red) wins ''' \n",
    "champion_lineup_blue = ['Graves', 'Trundle', 'Syndra', 'Ziggs', 'Leona'] \n",
    "champion_lineup_red = ['Kennen', 'Xin Zhao', 'Zoe', 'Aphelios', 'Rakan']\n",
    "\n",
    "# champion_lineup_blue = ['Gwen', 'Lee Sin','LeBlanc', 'Aphelios', 'Lulu']\n",
    "# champion_lineup_red = ['Graves', 'Jarvan IV', 'Twisted Fate','Lucian','Nami']\n",
    "\n",
    "# champion_lineup_blue = ['Gnar', 'Rengar', 'Ahri', 'Caitlyn', 'Leona']\n",
    "# champion_lineup_red = ['Irelia', 'Jarvan IV', 'Azir', 'Corki', 'Annie']\n",
    "\n",
    "# champion_lineup_blue = ['Jayce', 'Lee Sin', 'Twisted Fate', 'Miss Fortune', 'Leona']\n",
    "# champion_lineup_red = ['Kennen', 'Jarvan IV', 'Azir', 'Vayne', 'Lulu']\n",
    "\n",
    "x = [np.concatenate([champion_label_encoder.transform(champion_lineup_blue), champion_label_encoder.transform(champion_lineup_red)])]\n",
    "y_pred =model_NB.predict_proba(x)\n",
    "\n",
    "print(f\"model predicted winner : {model_NB.predict(x)[0]}\")\n",
    "print(f\"blue wins: {y_pred[0][0] * 100:.1f}% | red wins: {y_pred[0][1] * 100:.1f}%\")"
   ]
  }
 ],
 "metadata": {
  "interpreter": {
   "hash": "c1d0760c7ce9f7d327807be67b39761eab7b611a78e77843c7cfdcd49c3cb764"
  },
  "kernelspec": {
   "display_name": "Python 3.9.7 64-bit",
   "language": "python",
   "name": "python3"
  },
  "language_info": {
   "codemirror_mode": {
    "name": "ipython",
    "version": 3
   },
   "file_extension": ".py",
   "mimetype": "text/x-python",
   "name": "python",
   "nbconvert_exporter": "python",
   "pygments_lexer": "ipython3",
   "version": "3.9.7"
  },
  "orig_nbformat": 4
 },
 "nbformat": 4,
 "nbformat_minor": 2
}
