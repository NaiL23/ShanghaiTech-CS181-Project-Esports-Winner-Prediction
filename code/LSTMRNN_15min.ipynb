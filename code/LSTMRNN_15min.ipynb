{
 "cells": [
  {
   "cell_type": "markdown",
   "metadata": {},
   "source": [
    "# Predict Winner from Realtime Stats using RNN"
   ]
  },
  {
   "cell_type": "code",
   "execution_count": 1,
   "metadata": {},
   "outputs": [],
   "source": [
    "import torch\n",
    "from torch import nn\n",
    "import torchvision\n",
    "from torch.utils.data import Dataset\n",
    "from torch.utils.data import random_split\n",
    "from torch.utils.data import DataLoader\n",
    "import torch.nn.functional as F\n",
    "from torch.autograd import Variable\n",
    "import pandas as pd\n",
    "import numpy as np\n",
    "import matplotlib.pyplot as plt\n",
    "import re\n",
    "import warnings\n",
    "warnings.filterwarnings('ignore')\n",
    "from tqdm import tqdm\n",
    "\n",
    "\n",
    "SEED = 233\n",
    "BATCH_SIZE = 32\n",
    "PREDICT_TIME = 15"
   ]
  },
  {
   "cell_type": "markdown",
   "metadata": {},
   "source": [
    "## Dataset"
   ]
  },
  {
   "cell_type": "code",
   "execution_count": 2,
   "metadata": {},
   "outputs": [],
   "source": [
    "class LOLDataset(Dataset):\n",
    "    def __init__(self,moneyData,label):\n",
    "        self.money=[]\n",
    "        for i in range(PREDICT_TIME):\n",
    "            self.money.append([line[i] for line in moneyData])\n",
    "        self.label=[i for i in label]\n",
    "    \n",
    "    def __getitem__(self,item):\n",
    "        return torch.tensor([[torch.scalar_tensor(x[item])] for x in self.money]),torch.tensor(self.label[item])\n",
    "    \n",
    "    def __len__(self):\n",
    "        return len(self.label)\n",
    "            "
   ]
  },
  {
   "cell_type": "code",
   "execution_count": 3,
   "metadata": {},
   "outputs": [
    {
     "name": "stdout",
     "output_type": "stream",
     "text": [
      "# of matches: 7620\n"
     ]
    },
    {
     "data": {
      "text/plain": [
       "0    [0, 0, -14, -65, -268, -431, -488, -789, -494,...\n",
       "1    [0, 0, -26, -18, 147, 237, -152, 18, 88, -242,...\n",
       "2    [0, 0, 10, -60, 34, 37, 589, 1064, 1258, 913, ...\n",
       "3    [0, 0, -15, 25, 228, -6, -243, 175, -346, 16, ...\n",
       "4    [40, 40, 44, -36, 113, 158, -121, -191, 23, 20...\n",
       "Name: golddiff, dtype: object"
      ]
     },
     "execution_count": 3,
     "metadata": {},
     "output_type": "execute_result"
    }
   ],
   "source": [
    "df = pd.read_csv('../data/LeagueofLegends.csv', sep=',')\n",
    "df = df[df['gamelength'] >= PREDICT_TIME]\n",
    "df.reset_index(drop = True, inplace = True)\n",
    "print(f'# of matches: {len(df)}')\n",
    "\n",
    "from ast import literal_eval\n",
    "df['golddiff'] = df['golddiff'].apply(literal_eval)\n",
    "df['golddiff'].head()\n",
    "# df[\"bResult\"]"
   ]
  },
  {
   "cell_type": "markdown",
   "metadata": {},
   "source": [
    "Normalize data:"
   ]
  },
  {
   "cell_type": "code",
   "execution_count": 4,
   "metadata": {},
   "outputs": [
    {
     "name": "stdout",
     "output_type": "stream",
     "text": [
      "7620\n"
     ]
    }
   ],
   "source": [
    "from sklearn.preprocessing import StandardScaler\n",
    "scaler = StandardScaler()\n",
    "for row in df['golddiff']:\n",
    "    scaler.partial_fit(np.asanyarray(row).reshape(-1, 1))\n",
    "\n",
    "golddiff = [scaler.transform(np.asanyarray(row).reshape(-1, 1)).reshape(-1) for row in df['golddiff']]\n",
    "print(len(golddiff))"
   ]
  },
  {
   "cell_type": "markdown",
   "metadata": {},
   "source": [
    "Split the dataset into Train:Held-Out:Test = 6:2:2."
   ]
  },
  {
   "cell_type": "code",
   "execution_count": 5,
   "metadata": {},
   "outputs": [],
   "source": [
    "dataset = LOLDataset(golddiff, df[\"bResult\"])\n",
    "test_size = valid_size = int(0.2 * len(dataset))\n",
    "train_size = len(dataset)- test_size - valid_size\n",
    "\n",
    "trainDataset, validDataset, testDataset = random_split(\n",
    "    dataset = dataset,\n",
    "    lengths = [train_size, valid_size, test_size],\n",
    "    generator = torch.Generator().manual_seed(SEED)\n",
    ")\n",
    "\n",
    "trainLoader = DataLoader(trainDataset, batch_size = BATCH_SIZE, shuffle=True)\n",
    "validLoader = DataLoader(validDataset, batch_size = BATCH_SIZE)\n",
    "testLoader = DataLoader(testDataset, batch_size = BATCH_SIZE)"
   ]
  },
  {
   "cell_type": "markdown",
   "metadata": {},
   "source": [
    "## RNN Network"
   ]
  },
  {
   "cell_type": "code",
   "execution_count": 6,
   "metadata": {},
   "outputs": [],
   "source": [
    "class RNN(nn.Module):\n",
    "    def __init__(self):\n",
    "        super(RNN,self).__init__()\n",
    "\n",
    "        self.rnn=nn.LSTM(\n",
    "            input_size = 1,\n",
    "            hidden_size = 256,\n",
    "            num_layers = 1,\n",
    "            batch_first = True\n",
    "        )\n",
    "\n",
    "        self.out = nn.Linear(256, 2)\n",
    "    \n",
    "    def forward(self,x):\n",
    "        r_out,(h_n, h_c)=self.rnn(x,None)\n",
    "        out = self.out(r_out[:, -1, :])\n",
    "        return out"
   ]
  },
  {
   "cell_type": "code",
   "execution_count": 7,
   "metadata": {},
   "outputs": [
    {
     "name": "stdout",
     "output_type": "stream",
     "text": [
      "RNN(\n",
      "  (rnn): LSTM(1, 256, batch_first=True)\n",
      "  (out): Linear(in_features=256, out_features=2, bias=True)\n",
      ")\n"
     ]
    }
   ],
   "source": [
    "model=RNN()\n",
    "print(model)"
   ]
  },
  {
   "cell_type": "markdown",
   "metadata": {},
   "source": [
    "## Train"
   ]
  },
  {
   "cell_type": "code",
   "execution_count": 8,
   "metadata": {},
   "outputs": [],
   "source": [
    "def train(dataloader, model, loss_fn, optimizer, mute = False):\n",
    "    size = len(dataloader.dataset)\n",
    "    for batch, (x, y) in enumerate(dataloader):\n",
    "        x, y = Variable(x), Variable(y)\n",
    "\n",
    "        predict = model(x)\n",
    "        loss = loss_fn(predict, y)\n",
    "        \n",
    "        optimizer.zero_grad()\n",
    "        loss.backward()\n",
    "        optimizer.step()\n",
    "\n",
    "        if batch % 20 == 0 and not mute:\n",
    "            loss, current = loss.item(), batch * len(x)\n",
    "            print(f\"loss: {loss:>7f}  [{current:>5d}/{size:>5d}]\")"
   ]
  },
  {
   "cell_type": "code",
   "execution_count": 9,
   "metadata": {},
   "outputs": [],
   "source": [
    "def test(dataloader, model, loss_fn, validation = False):\n",
    "    model.eval()\n",
    "    size = len(dataloader.dataset)\n",
    "\n",
    "    correct = 0\n",
    "    test_loss = 0\n",
    "    with torch.no_grad():\n",
    "        for step,(x,y) in enumerate(dataloader):\n",
    "            x, y = Variable(x), Variable(y)\n",
    "            predict = model(x)\n",
    "            # print(predict)\n",
    "            test_loss += loss_fn(predict, y).item()\n",
    "            correct += (predict.argmax(1) == y).sum().item()\n",
    "    \n",
    "    print(f\"{'Valid' if validation else 'Test'} Acc:{correct/size:>7f}, Avg Loss: {test_loss/size:>7f}\")"
   ]
  },
  {
   "cell_type": "code",
   "execution_count": 10,
   "metadata": {},
   "outputs": [
    {
     "name": "stdout",
     "output_type": "stream",
     "text": [
      "--------- Epoch #1 ---------\n",
      "loss: 0.700960  [    0/ 4572]\n",
      "loss: 0.693777  [  640/ 4572]\n",
      "loss: 0.686845  [ 1280/ 4572]\n",
      "loss: 0.665790  [ 1920/ 4572]\n",
      "loss: 0.674282  [ 2560/ 4572]\n",
      "loss: 0.630299  [ 3200/ 4572]\n",
      "loss: 0.586982  [ 3840/ 4572]\n",
      "loss: 0.672919  [ 4480/ 4572]\n",
      "Valid Acc:0.678478, Avg Loss: 0.019044\n",
      "--------- Epoch #2 ---------\n",
      "loss: 0.573486  [    0/ 4572]\n",
      "loss: 0.607044  [  640/ 4572]\n",
      "loss: 0.496381  [ 1280/ 4572]\n",
      "loss: 0.431214  [ 1920/ 4572]\n",
      "loss: 0.578819  [ 2560/ 4572]\n",
      "loss: 0.699410  [ 3200/ 4572]\n",
      "loss: 0.719025  [ 3840/ 4572]\n",
      "loss: 0.571090  [ 4480/ 4572]\n",
      "Valid Acc:0.691601, Avg Loss: 0.018246\n",
      "--------- Epoch #3 ---------\n",
      "loss: 0.706280  [    0/ 4572]\n",
      "loss: 0.629812  [  640/ 4572]\n",
      "loss: 0.537234  [ 1280/ 4572]\n",
      "loss: 0.723160  [ 1920/ 4572]\n",
      "loss: 0.526290  [ 2560/ 4572]\n",
      "loss: 0.530781  [ 3200/ 4572]\n",
      "loss: 0.525185  [ 3840/ 4572]\n",
      "loss: 0.698953  [ 4480/ 4572]\n",
      "Valid Acc:0.701444, Avg Loss: 0.017806\n",
      "--------- Epoch #4 ---------\n",
      "loss: 0.574313  [    0/ 4572]\n",
      "loss: 0.529766  [  640/ 4572]\n",
      "loss: 0.643190  [ 1280/ 4572]\n",
      "loss: 0.521476  [ 1920/ 4572]\n",
      "loss: 0.614268  [ 2560/ 4572]\n",
      "loss: 0.534034  [ 3200/ 4572]\n",
      "loss: 0.549890  [ 3840/ 4572]\n",
      "loss: 0.531757  [ 4480/ 4572]\n",
      "Valid Acc:0.707349, Avg Loss: 0.017568\n",
      "--------- Epoch #5 ---------\n",
      "loss: 0.458342  [    0/ 4572]\n",
      "loss: 0.563907  [  640/ 4572]\n",
      "loss: 0.527400  [ 1280/ 4572]\n",
      "loss: 0.659280  [ 1920/ 4572]\n",
      "loss: 0.546650  [ 2560/ 4572]\n",
      "loss: 0.582728  [ 3200/ 4572]\n",
      "loss: 0.613463  [ 3840/ 4572]\n",
      "loss: 0.612393  [ 4480/ 4572]\n",
      "Valid Acc:0.706037, Avg Loss: 0.017416\n",
      "--------- Epoch #6 ---------\n",
      "loss: 0.482563  [    0/ 4572]\n",
      "loss: 0.542251  [  640/ 4572]\n",
      "loss: 0.476518  [ 1280/ 4572]\n",
      "loss: 0.581576  [ 1920/ 4572]\n",
      "loss: 0.565751  [ 2560/ 4572]\n",
      "loss: 0.598649  [ 3200/ 4572]\n",
      "loss: 0.538115  [ 3840/ 4572]\n",
      "loss: 0.567648  [ 4480/ 4572]\n",
      "Valid Acc:0.713255, Avg Loss: 0.017366\n",
      "--------- Epoch #7 ---------\n",
      "loss: 0.559514  [    0/ 4572]\n",
      "loss: 0.412483  [  640/ 4572]\n",
      "loss: 0.598826  [ 1280/ 4572]\n",
      "loss: 0.467736  [ 1920/ 4572]\n",
      "loss: 0.481268  [ 2560/ 4572]\n",
      "loss: 0.498407  [ 3200/ 4572]\n",
      "loss: 0.624586  [ 3840/ 4572]\n",
      "loss: 0.553455  [ 4480/ 4572]\n",
      "Valid Acc:0.717192, Avg Loss: 0.017276\n",
      "--------- Epoch #8 ---------\n",
      "loss: 0.529008  [    0/ 4572]\n",
      "loss: 0.594152  [  640/ 4572]\n",
      "loss: 0.572776  [ 1280/ 4572]\n",
      "loss: 0.696299  [ 1920/ 4572]\n",
      "loss: 0.504084  [ 2560/ 4572]\n",
      "loss: 0.611328  [ 3200/ 4572]\n",
      "loss: 0.449422  [ 3840/ 4572]\n",
      "loss: 0.500169  [ 4480/ 4572]\n",
      "Valid Acc:0.715223, Avg Loss: 0.017171\n",
      "--------- Epoch #9 ---------\n",
      "loss: 0.449080  [    0/ 4572]\n",
      "loss: 0.531895  [  640/ 4572]\n",
      "loss: 0.554632  [ 1280/ 4572]\n",
      "loss: 0.498402  [ 1920/ 4572]\n",
      "loss: 0.559900  [ 2560/ 4572]\n",
      "loss: 0.555263  [ 3200/ 4572]\n",
      "loss: 0.597556  [ 3840/ 4572]\n",
      "loss: 0.620274  [ 4480/ 4572]\n",
      "Valid Acc:0.720472, Avg Loss: 0.017101\n",
      "--------- Epoch #10 ---------\n",
      "loss: 0.521038  [    0/ 4572]\n",
      "loss: 0.585441  [  640/ 4572]\n",
      "loss: 0.479044  [ 1280/ 4572]\n",
      "loss: 0.495701  [ 1920/ 4572]\n",
      "loss: 0.592471  [ 2560/ 4572]\n",
      "loss: 0.554555  [ 3200/ 4572]\n",
      "loss: 0.723577  [ 3840/ 4572]\n",
      "loss: 0.464155  [ 4480/ 4572]\n",
      "Valid Acc:0.717848, Avg Loss: 0.017080\n",
      "--------- Epoch #11 ---------\n",
      "loss: 0.563514  [    0/ 4572]\n",
      "loss: 0.427467  [  640/ 4572]\n",
      "loss: 0.540482  [ 1280/ 4572]\n",
      "loss: 0.558347  [ 1920/ 4572]\n",
      "loss: 0.602096  [ 2560/ 4572]\n",
      "loss: 0.593748  [ 3200/ 4572]\n",
      "loss: 0.494518  [ 3840/ 4572]\n",
      "loss: 0.575924  [ 4480/ 4572]\n",
      "Valid Acc:0.711286, Avg Loss: 0.017127\n",
      "--------- Epoch #12 ---------\n",
      "loss: 0.429024  [    0/ 4572]\n",
      "loss: 0.601545  [  640/ 4572]\n",
      "loss: 0.421582  [ 1280/ 4572]\n",
      "loss: 0.522850  [ 1920/ 4572]\n",
      "loss: 0.466981  [ 2560/ 4572]\n",
      "loss: 0.595785  [ 3200/ 4572]\n",
      "loss: 0.610089  [ 3840/ 4572]\n",
      "loss: 0.499501  [ 4480/ 4572]\n",
      "Valid Acc:0.713911, Avg Loss: 0.017128\n",
      "--------- Epoch #13 ---------\n",
      "loss: 0.602782  [    0/ 4572]\n",
      "loss: 0.581457  [  640/ 4572]\n",
      "loss: 0.389014  [ 1280/ 4572]\n",
      "loss: 0.476925  [ 1920/ 4572]\n",
      "loss: 0.485759  [ 2560/ 4572]\n",
      "loss: 0.712266  [ 3200/ 4572]\n",
      "loss: 0.670665  [ 3840/ 4572]\n",
      "loss: 0.523956  [ 4480/ 4572]\n",
      "Valid Acc:0.712598, Avg Loss: 0.017111\n",
      "--------- Epoch #14 ---------\n",
      "loss: 0.415827  [    0/ 4572]\n",
      "loss: 0.509830  [  640/ 4572]\n",
      "loss: 0.513871  [ 1280/ 4572]\n",
      "loss: 0.533723  [ 1920/ 4572]\n",
      "loss: 0.520210  [ 2560/ 4572]\n",
      "loss: 0.518362  [ 3200/ 4572]\n",
      "loss: 0.611329  [ 3840/ 4572]\n",
      "loss: 0.413294  [ 4480/ 4572]\n",
      "Valid Acc:0.717848, Avg Loss: 0.017071\n",
      "--------- Epoch #15 ---------\n",
      "loss: 0.522893  [    0/ 4572]\n",
      "loss: 0.544917  [  640/ 4572]\n",
      "loss: 0.525364  [ 1280/ 4572]\n",
      "loss: 0.604947  [ 1920/ 4572]\n",
      "loss: 0.452202  [ 2560/ 4572]\n",
      "loss: 0.677407  [ 3200/ 4572]\n",
      "loss: 0.599555  [ 3840/ 4572]\n",
      "loss: 0.641483  [ 4480/ 4572]\n",
      "Valid Acc:0.716535, Avg Loss: 0.017046\n"
     ]
    }
   ],
   "source": [
    "MUTE = False\n",
    "EPOCH = 15\n",
    "LR = 0.0001\n",
    "\n",
    "torch.manual_seed(SEED)\n",
    "np.random.seed(SEED)\n",
    "\n",
    "optimizer = torch.optim.Adam(model.parameters(), lr = LR)\n",
    "loss_func = nn.CrossEntropyLoss()\n",
    "\n",
    "for epoch in range(1, EPOCH + 1):\n",
    "    print(f\"--------- Epoch #{epoch} ---------\")\n",
    "    train(trainLoader, model, loss_func, optimizer, mute = MUTE)\n",
    "    test(validLoader, model, loss_func, validation = True)\n",
    "    # test(testLoader, model, loss_func)\n"
   ]
  },
  {
   "cell_type": "markdown",
   "metadata": {},
   "source": [
    "## Test"
   ]
  },
  {
   "cell_type": "code",
   "execution_count": 11,
   "metadata": {},
   "outputs": [
    {
     "name": "stdout",
     "output_type": "stream",
     "text": [
      "Test Acc:0.728346, Avg Loss: 0.017081\n"
     ]
    }
   ],
   "source": [
    "test(testLoader, model, loss_func)"
   ]
  }
 ],
 "metadata": {
  "interpreter": {
   "hash": "61a57a4b5406d2de388e2f91097d4e4bcd7d5f4a46f53a795aa28a02eed27fc5"
  },
  "kernelspec": {
   "display_name": "Python 3.8.8 64-bit ('base': conda)",
   "language": "python",
   "name": "python3"
  },
  "language_info": {
   "codemirror_mode": {
    "name": "ipython",
    "version": 3
   },
   "file_extension": ".py",
   "mimetype": "text/x-python",
   "name": "python",
   "nbconvert_exporter": "python",
   "pygments_lexer": "ipython3",
   "version": "3.9.7"
  },
  "orig_nbformat": 4
 },
 "nbformat": 4,
 "nbformat_minor": 2
}
